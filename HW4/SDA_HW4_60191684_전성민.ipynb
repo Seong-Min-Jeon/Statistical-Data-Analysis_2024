{
 "cells": [
  {
   "cell_type": "code",
   "execution_count": 176,
   "id": "dc86df0b-e325-4fee-8448-23558fe0aa90",
   "metadata": {
    "execution": {
     "iopub.execute_input": "2024-11-27T16:02:34.932251Z",
     "iopub.status.busy": "2024-11-27T16:02:34.930721Z",
     "iopub.status.idle": "2024-11-27T16:02:35.062607Z",
     "shell.execute_reply": "2024-11-27T16:02:35.061308Z",
     "shell.execute_reply.started": "2024-11-27T16:02:34.932251Z"
    }
   },
   "outputs": [
    {
     "data": {
      "text/html": [
       "<div>\n",
       "<style scoped>\n",
       "    .dataframe tbody tr th:only-of-type {\n",
       "        vertical-align: middle;\n",
       "    }\n",
       "\n",
       "    .dataframe tbody tr th {\n",
       "        vertical-align: top;\n",
       "    }\n",
       "\n",
       "    .dataframe thead th {\n",
       "        text-align: right;\n",
       "    }\n",
       "</style>\n",
       "<table border=\"1\" class=\"dataframe\">\n",
       "  <thead>\n",
       "    <tr style=\"text-align: right;\">\n",
       "      <th></th>\n",
       "      <th>school</th>\n",
       "      <th>sex</th>\n",
       "      <th>age</th>\n",
       "      <th>address</th>\n",
       "      <th>famsize</th>\n",
       "      <th>Pstatus</th>\n",
       "      <th>Medu</th>\n",
       "      <th>Fedu</th>\n",
       "      <th>Mjob</th>\n",
       "      <th>Fjob</th>\n",
       "      <th>...</th>\n",
       "      <th>famrel</th>\n",
       "      <th>freetime</th>\n",
       "      <th>goout</th>\n",
       "      <th>Dalc</th>\n",
       "      <th>Walc</th>\n",
       "      <th>health</th>\n",
       "      <th>absences</th>\n",
       "      <th>G1</th>\n",
       "      <th>G2</th>\n",
       "      <th>G3</th>\n",
       "    </tr>\n",
       "  </thead>\n",
       "  <tbody>\n",
       "    <tr>\n",
       "      <th>0</th>\n",
       "      <td>GP</td>\n",
       "      <td>F</td>\n",
       "      <td>18</td>\n",
       "      <td>U</td>\n",
       "      <td>GT3</td>\n",
       "      <td>A</td>\n",
       "      <td>4</td>\n",
       "      <td>4</td>\n",
       "      <td>at_home</td>\n",
       "      <td>teacher</td>\n",
       "      <td>...</td>\n",
       "      <td>4</td>\n",
       "      <td>3</td>\n",
       "      <td>4</td>\n",
       "      <td>1</td>\n",
       "      <td>1</td>\n",
       "      <td>3</td>\n",
       "      <td>6</td>\n",
       "      <td>5</td>\n",
       "      <td>6</td>\n",
       "      <td>6</td>\n",
       "    </tr>\n",
       "    <tr>\n",
       "      <th>1</th>\n",
       "      <td>GP</td>\n",
       "      <td>F</td>\n",
       "      <td>17</td>\n",
       "      <td>U</td>\n",
       "      <td>GT3</td>\n",
       "      <td>T</td>\n",
       "      <td>1</td>\n",
       "      <td>1</td>\n",
       "      <td>at_home</td>\n",
       "      <td>other</td>\n",
       "      <td>...</td>\n",
       "      <td>5</td>\n",
       "      <td>3</td>\n",
       "      <td>3</td>\n",
       "      <td>1</td>\n",
       "      <td>1</td>\n",
       "      <td>3</td>\n",
       "      <td>4</td>\n",
       "      <td>5</td>\n",
       "      <td>5</td>\n",
       "      <td>6</td>\n",
       "    </tr>\n",
       "    <tr>\n",
       "      <th>2</th>\n",
       "      <td>GP</td>\n",
       "      <td>F</td>\n",
       "      <td>15</td>\n",
       "      <td>U</td>\n",
       "      <td>LE3</td>\n",
       "      <td>T</td>\n",
       "      <td>1</td>\n",
       "      <td>1</td>\n",
       "      <td>at_home</td>\n",
       "      <td>other</td>\n",
       "      <td>...</td>\n",
       "      <td>4</td>\n",
       "      <td>3</td>\n",
       "      <td>2</td>\n",
       "      <td>2</td>\n",
       "      <td>3</td>\n",
       "      <td>3</td>\n",
       "      <td>10</td>\n",
       "      <td>7</td>\n",
       "      <td>8</td>\n",
       "      <td>10</td>\n",
       "    </tr>\n",
       "    <tr>\n",
       "      <th>3</th>\n",
       "      <td>GP</td>\n",
       "      <td>F</td>\n",
       "      <td>15</td>\n",
       "      <td>U</td>\n",
       "      <td>GT3</td>\n",
       "      <td>T</td>\n",
       "      <td>4</td>\n",
       "      <td>2</td>\n",
       "      <td>health</td>\n",
       "      <td>services</td>\n",
       "      <td>...</td>\n",
       "      <td>3</td>\n",
       "      <td>2</td>\n",
       "      <td>2</td>\n",
       "      <td>1</td>\n",
       "      <td>1</td>\n",
       "      <td>5</td>\n",
       "      <td>2</td>\n",
       "      <td>15</td>\n",
       "      <td>14</td>\n",
       "      <td>15</td>\n",
       "    </tr>\n",
       "    <tr>\n",
       "      <th>4</th>\n",
       "      <td>GP</td>\n",
       "      <td>F</td>\n",
       "      <td>16</td>\n",
       "      <td>U</td>\n",
       "      <td>GT3</td>\n",
       "      <td>T</td>\n",
       "      <td>3</td>\n",
       "      <td>3</td>\n",
       "      <td>other</td>\n",
       "      <td>other</td>\n",
       "      <td>...</td>\n",
       "      <td>4</td>\n",
       "      <td>3</td>\n",
       "      <td>2</td>\n",
       "      <td>1</td>\n",
       "      <td>2</td>\n",
       "      <td>5</td>\n",
       "      <td>4</td>\n",
       "      <td>6</td>\n",
       "      <td>10</td>\n",
       "      <td>10</td>\n",
       "    </tr>\n",
       "  </tbody>\n",
       "</table>\n",
       "<p>5 rows × 33 columns</p>\n",
       "</div>"
      ],
      "text/plain": [
       "  school sex  age address famsize Pstatus  Medu  Fedu     Mjob      Fjob  ...  \\\n",
       "0     GP   F   18       U     GT3       A     4     4  at_home   teacher  ...   \n",
       "1     GP   F   17       U     GT3       T     1     1  at_home     other  ...   \n",
       "2     GP   F   15       U     LE3       T     1     1  at_home     other  ...   \n",
       "3     GP   F   15       U     GT3       T     4     2   health  services  ...   \n",
       "4     GP   F   16       U     GT3       T     3     3    other     other  ...   \n",
       "\n",
       "  famrel freetime  goout  Dalc  Walc health absences  G1  G2  G3  \n",
       "0      4        3      4     1     1      3        6   5   6   6  \n",
       "1      5        3      3     1     1      3        4   5   5   6  \n",
       "2      4        3      2     2     3      3       10   7   8  10  \n",
       "3      3        2      2     1     1      5        2  15  14  15  \n",
       "4      4        3      2     1     2      5        4   6  10  10  \n",
       "\n",
       "[5 rows x 33 columns]"
      ]
     },
     "execution_count": 176,
     "metadata": {},
     "output_type": "execute_result"
    }
   ],
   "source": [
    "# 1\n",
    "import pandas as pd\n",
    "import numpy as np\n",
    "\n",
    "data=pd.read_csv('student-mat.csv')\n",
    "data.head()"
   ]
  },
  {
   "cell_type": "code",
   "execution_count": 177,
   "id": "e114d25e-ebf4-4e12-bd01-1e6cfb35141b",
   "metadata": {
    "execution": {
     "iopub.execute_input": "2024-11-27T16:02:35.112052Z",
     "iopub.status.busy": "2024-11-27T16:02:35.111014Z",
     "iopub.status.idle": "2024-11-27T16:02:35.154363Z",
     "shell.execute_reply": "2024-11-27T16:02:35.152615Z",
     "shell.execute_reply.started": "2024-11-27T16:02:35.112052Z"
    }
   },
   "outputs": [
    {
     "name": "stdout",
     "output_type": "stream",
     "text": [
      "남학생 평균: 10.914438502673796\n",
      "여학생 평균: 9.966346153846153\n",
      "남학생 평균(0점 제거): 11.866279069767442\n",
      "여학생 평균(0점 제거): 11.205405405405406\n"
     ]
    }
   ],
   "source": [
    "# 성별별로 데이터 분리\n",
    "data_m=data[data['sex']=='M']\n",
    "data_w=data[data['sex']=='F']\n",
    "\n",
    "# 성별별 기말고사 점수 평균 계산\n",
    "print('남학생 평균:',data_m[\"G3\"].mean())\n",
    "print('여학생 평균:',data_w[\"G3\"].mean())\n",
    "\n",
    "# 0점을 받은 학생은 결측치로 판단, 제거하고 평균을 계산\n",
    "print('남학생 평균(0점 제거):',data_m[data_m[\"G3\"]>0][\"G3\"].mean())\n",
    "print('여학생 평균(0점 제거):',data_f[data_f[\"G3\"]>0][\"G3\"].mean())"
   ]
  },
  {
   "cell_type": "code",
   "execution_count": 179,
   "id": "42f9c620-b31a-47d2-9bbf-2ed988398427",
   "metadata": {
    "execution": {
     "iopub.execute_input": "2024-11-27T16:02:35.326241Z",
     "iopub.status.busy": "2024-11-27T16:02:35.326241Z",
     "iopub.status.idle": "2024-11-27T16:02:35.343130Z",
     "shell.execute_reply": "2024-11-27T16:02:35.341423Z",
     "shell.execute_reply.started": "2024-11-27T16:02:35.326241Z"
    }
   },
   "outputs": [],
   "source": [
    "# 성별별 기말고사 점수를 추출\n",
    "g3_m=data_m[data_m[\"G3\"]>0][\"G3\"]\n",
    "g3_w=data_f[data_f[\"G3\"]>0][\"G3\"]"
   ]
  },
  {
   "cell_type": "code",
   "execution_count": 182,
   "id": "e85f8f63-635f-48f1-b42c-daaab9031754",
   "metadata": {
    "execution": {
     "iopub.execute_input": "2024-11-27T16:02:35.573789Z",
     "iopub.status.busy": "2024-11-27T16:02:35.570877Z",
     "iopub.status.idle": "2024-11-27T16:02:36.993158Z",
     "shell.execute_reply": "2024-11-27T16:02:36.991318Z",
     "shell.execute_reply.started": "2024-11-27T16:02:35.573789Z"
    }
   },
   "outputs": [
    {
     "name": "stdout",
     "output_type": "stream",
     "text": [
      "정규성을 가진다고 보기에는 어려워 보입니다.\n"
     ]
    },
    {
     "data": {
      "image/png": "[encoded data removed]",
      "text/plain": [
       "<Figure size 1200x600 with 2 Axes>"
      ]
     },
     "metadata": {},
     "output_type": "display_data"
    }
   ],
   "source": [
    "# Q-Q plot을 통해 데이터가 정규성을 따르는지 시각적으로 확인\n",
    "\n",
    "import matplotlib.pyplot as plt\n",
    "import statsmodels.api as sm\n",
    "\n",
    "fig,axes=plt.subplots(1,2,figsize=(12, 6))\n",
    "\n",
    "sm.qqplot(g3_m, line='45', ax=axes[0])\n",
    "axes[0].set_title('g3_m')\n",
    "sm.qqplot(g3_w, line='45', ax=axes[1])\n",
    "axes[1].set_title('g3_w')\n",
    "\n",
    "print('정규성을 가진다고 보기에는 어려워 보입니다.')"
   ]
  },
  {
   "cell_type": "code",
   "execution_count": 183,
   "id": "ea442e51-c050-4b17-8f94-c6373fa3c90d",
   "metadata": {
    "execution": {
     "iopub.execute_input": "2024-11-27T16:02:37.001647Z",
     "iopub.status.busy": "2024-11-27T16:02:37.001647Z",
     "iopub.status.idle": "2024-11-27T16:02:37.033501Z",
     "shell.execute_reply": "2024-11-27T16:02:37.032211Z",
     "shell.execute_reply.started": "2024-11-27T16:02:37.001647Z"
    }
   },
   "outputs": [
    {
     "name": "stdout",
     "output_type": "stream",
     "text": [
      "[남학생의 기말고사 점수]\n",
      "shapiro test의 p-value: 0.009935521520674229\n",
      "cut-off 0.05에서 정규성을 따르지 않는다고 볼 수 있습니다.\n",
      "\n",
      "[여학생의 기말고사 점수]\n",
      "shapiro test의 p-value: 0.006041768938302994\n",
      "cut-off 0.05에서 정규성을 따르지 않는다고 볼 수 있습니다.\n"
     ]
    }
   ],
   "source": [
    "# 데이터가 정규성을 따르는지 Shapiro-Wilk Test를 통해 수치적으로 확인\n",
    "from scipy.stats import shapiro\n",
    "\n",
    "_,p_m=shapiro(g3_m)\n",
    "_,p_w=shapiro(g3_w)\n",
    "\n",
    "print('[남학생의 기말고사 점수]')\n",
    "print('shapiro test의 p-value:',p_m)\n",
    "if(p_m<0.05): print('cut-off 0.05에서 정규성을 따르지 않는다고 볼 수 있습니다.')\n",
    "else: print('cut-off 0.05에서 정규성을 따른다고 볼 수 있습니다.')\n",
    "    \n",
    "print()\n",
    "\n",
    "print('[여학생의 기말고사 점수]')\n",
    "print('shapiro test의 p-value:',p_w)\n",
    "if(p_w<0.05): print('cut-off 0.05에서 정규성을 따르지 않는다고 볼 수 있습니다.')\n",
    "else: print('cut-off 0.05에서 정규성을 따른다고 볼 수 있습니다.')"
   ]
  },
  {
   "cell_type": "code",
   "execution_count": 184,
   "id": "018d4104-a58a-436c-9da2-693afa53a118",
   "metadata": {
    "execution": {
     "iopub.execute_input": "2024-11-27T16:02:37.040550Z",
     "iopub.status.busy": "2024-11-27T16:02:37.033501Z",
     "iopub.status.idle": "2024-11-27T16:02:37.066153Z",
     "shell.execute_reply": "2024-11-27T16:02:37.064942Z",
     "shell.execute_reply.started": "2024-11-27T16:02:37.040550Z"
    }
   },
   "outputs": [
    {
     "name": "stdout",
     "output_type": "stream",
     "text": [
      "rank-sum test의 p-value: 0.077593485676993\n",
      "cut-off 0.05에서 남,녀의 수학 기말고사 점수의 차이가 있다고 보기는 어렵습니다.\n"
     ]
    }
   ],
   "source": [
    "# 데이터가 정규성을 따르지 않으므로 비모수적 방법인 rank-sum test를\n",
    "# 통해 남,녀의 수학 기말고사 점수가 차이가 나는지 test\n",
    "from scipy.stats import ranksums\n",
    "\n",
    "_,p=ranksums(g3_m,g3_w)\n",
    "print('rank-sum test의 p-value:',p)\n",
    "if(p<0.05): print('cut-off 0.05에서 남,녀의 수학 기말고사 점수의 차이가 있다고 볼 수 있습니다.')\n",
    "else: print('cut-off 0.05에서 남,녀의 수학 기말고사 점수의 차이가 있다고 보기는 어렵습니다.')"
   ]
  },
  {
   "cell_type": "code",
   "execution_count": 185,
   "id": "18836417-38ba-41de-b8b7-e7fae0c20744",
   "metadata": {
    "execution": {
     "iopub.execute_input": "2024-11-27T16:02:37.068789Z",
     "iopub.status.busy": "2024-11-27T16:02:37.068789Z",
     "iopub.status.idle": "2024-11-27T16:02:37.157572Z",
     "shell.execute_reply": "2024-11-27T16:02:37.155729Z",
     "shell.execute_reply.started": "2024-11-27T16:02:37.068789Z"
    }
   },
   "outputs": [
    {
     "data": {
      "text/html": [
       "<div>\n",
       "<style scoped>\n",
       "    .dataframe tbody tr th:only-of-type {\n",
       "        vertical-align: middle;\n",
       "    }\n",
       "\n",
       "    .dataframe tbody tr th {\n",
       "        vertical-align: top;\n",
       "    }\n",
       "\n",
       "    .dataframe thead th {\n",
       "        text-align: right;\n",
       "    }\n",
       "</style>\n",
       "<table border=\"1\" class=\"dataframe\">\n",
       "  <thead>\n",
       "    <tr style=\"text-align: right;\">\n",
       "      <th></th>\n",
       "      <th>school</th>\n",
       "      <th>sex</th>\n",
       "      <th>age</th>\n",
       "      <th>address</th>\n",
       "      <th>famsize</th>\n",
       "      <th>Pstatus</th>\n",
       "      <th>Medu</th>\n",
       "      <th>Fedu</th>\n",
       "      <th>Mjob</th>\n",
       "      <th>Fjob</th>\n",
       "      <th>...</th>\n",
       "      <th>famrel</th>\n",
       "      <th>freetime</th>\n",
       "      <th>goout</th>\n",
       "      <th>Dalc</th>\n",
       "      <th>Walc</th>\n",
       "      <th>health</th>\n",
       "      <th>absences</th>\n",
       "      <th>G1</th>\n",
       "      <th>G2</th>\n",
       "      <th>G3</th>\n",
       "    </tr>\n",
       "  </thead>\n",
       "  <tbody>\n",
       "    <tr>\n",
       "      <th>0</th>\n",
       "      <td>GP</td>\n",
       "      <td>F</td>\n",
       "      <td>18</td>\n",
       "      <td>U</td>\n",
       "      <td>GT3</td>\n",
       "      <td>A</td>\n",
       "      <td>4</td>\n",
       "      <td>4</td>\n",
       "      <td>at_home</td>\n",
       "      <td>teacher</td>\n",
       "      <td>...</td>\n",
       "      <td>4</td>\n",
       "      <td>3</td>\n",
       "      <td>4</td>\n",
       "      <td>1</td>\n",
       "      <td>1</td>\n",
       "      <td>3</td>\n",
       "      <td>4</td>\n",
       "      <td>0</td>\n",
       "      <td>11</td>\n",
       "      <td>11</td>\n",
       "    </tr>\n",
       "    <tr>\n",
       "      <th>1</th>\n",
       "      <td>GP</td>\n",
       "      <td>F</td>\n",
       "      <td>17</td>\n",
       "      <td>U</td>\n",
       "      <td>GT3</td>\n",
       "      <td>T</td>\n",
       "      <td>1</td>\n",
       "      <td>1</td>\n",
       "      <td>at_home</td>\n",
       "      <td>other</td>\n",
       "      <td>...</td>\n",
       "      <td>5</td>\n",
       "      <td>3</td>\n",
       "      <td>3</td>\n",
       "      <td>1</td>\n",
       "      <td>1</td>\n",
       "      <td>3</td>\n",
       "      <td>2</td>\n",
       "      <td>9</td>\n",
       "      <td>11</td>\n",
       "      <td>11</td>\n",
       "    </tr>\n",
       "    <tr>\n",
       "      <th>2</th>\n",
       "      <td>GP</td>\n",
       "      <td>F</td>\n",
       "      <td>15</td>\n",
       "      <td>U</td>\n",
       "      <td>LE3</td>\n",
       "      <td>T</td>\n",
       "      <td>1</td>\n",
       "      <td>1</td>\n",
       "      <td>at_home</td>\n",
       "      <td>other</td>\n",
       "      <td>...</td>\n",
       "      <td>4</td>\n",
       "      <td>3</td>\n",
       "      <td>2</td>\n",
       "      <td>2</td>\n",
       "      <td>3</td>\n",
       "      <td>3</td>\n",
       "      <td>6</td>\n",
       "      <td>12</td>\n",
       "      <td>13</td>\n",
       "      <td>12</td>\n",
       "    </tr>\n",
       "    <tr>\n",
       "      <th>3</th>\n",
       "      <td>GP</td>\n",
       "      <td>F</td>\n",
       "      <td>15</td>\n",
       "      <td>U</td>\n",
       "      <td>GT3</td>\n",
       "      <td>T</td>\n",
       "      <td>4</td>\n",
       "      <td>2</td>\n",
       "      <td>health</td>\n",
       "      <td>services</td>\n",
       "      <td>...</td>\n",
       "      <td>3</td>\n",
       "      <td>2</td>\n",
       "      <td>2</td>\n",
       "      <td>1</td>\n",
       "      <td>1</td>\n",
       "      <td>5</td>\n",
       "      <td>0</td>\n",
       "      <td>14</td>\n",
       "      <td>14</td>\n",
       "      <td>14</td>\n",
       "    </tr>\n",
       "    <tr>\n",
       "      <th>4</th>\n",
       "      <td>GP</td>\n",
       "      <td>F</td>\n",
       "      <td>16</td>\n",
       "      <td>U</td>\n",
       "      <td>GT3</td>\n",
       "      <td>T</td>\n",
       "      <td>3</td>\n",
       "      <td>3</td>\n",
       "      <td>other</td>\n",
       "      <td>other</td>\n",
       "      <td>...</td>\n",
       "      <td>4</td>\n",
       "      <td>3</td>\n",
       "      <td>2</td>\n",
       "      <td>1</td>\n",
       "      <td>2</td>\n",
       "      <td>5</td>\n",
       "      <td>0</td>\n",
       "      <td>11</td>\n",
       "      <td>13</td>\n",
       "      <td>13</td>\n",
       "    </tr>\n",
       "  </tbody>\n",
       "</table>\n",
       "<p>5 rows × 33 columns</p>\n",
       "</div>"
      ],
      "text/plain": [
       "  school sex  age address famsize Pstatus  Medu  Fedu     Mjob      Fjob  ...  \\\n",
       "0     GP   F   18       U     GT3       A     4     4  at_home   teacher  ...   \n",
       "1     GP   F   17       U     GT3       T     1     1  at_home     other  ...   \n",
       "2     GP   F   15       U     LE3       T     1     1  at_home     other  ...   \n",
       "3     GP   F   15       U     GT3       T     4     2   health  services  ...   \n",
       "4     GP   F   16       U     GT3       T     3     3    other     other  ...   \n",
       "\n",
       "  famrel freetime  goout  Dalc  Walc health absences  G1  G2  G3  \n",
       "0      4        3      4     1     1      3        4   0  11  11  \n",
       "1      5        3      3     1     1      3        2   9  11  11  \n",
       "2      4        3      2     2     3      3        6  12  13  12  \n",
       "3      3        2      2     1     1      5        0  14  14  14  \n",
       "4      4        3      2     1     2      5        0  11  13  13  \n",
       "\n",
       "[5 rows x 33 columns]"
      ]
     },
     "execution_count": 185,
     "metadata": {},
     "output_type": "execute_result"
    }
   ],
   "source": [
    "# 2\n",
    "data=pd.read_csv('student-por.csv')\n",
    "data.head()"
   ]
  },
  {
   "cell_type": "code",
   "execution_count": 186,
   "id": "aa4f7c6e-03d5-41a8-8721-23d91421c446",
   "metadata": {
    "execution": {
     "iopub.execute_input": "2024-11-27T16:02:37.157572Z",
     "iopub.status.busy": "2024-11-27T16:02:37.157572Z",
     "iopub.status.idle": "2024-11-27T16:02:37.207175Z",
     "shell.execute_reply": "2024-11-27T16:02:37.205954Z",
     "shell.execute_reply.started": "2024-11-27T16:02:37.157572Z"
    }
   },
   "outputs": [
    {
     "name": "stdout",
     "output_type": "stream",
     "text": [
      "남학생 평균: 11.406015037593985\n",
      "여학생 평균: 12.2532637075718\n",
      "남학생 평균(0점 제거): 11.75968992248062\n",
      "여학생 평균(0점 제거): 11.205405405405406\n"
     ]
    }
   ],
   "source": [
    "# 성별별로 데이터 분리\n",
    "data_m=data[data['sex']=='M']\n",
    "data_w=data[data['sex']=='F']\n",
    "\n",
    "# 성별별 기말고사 점수 평균 계산\n",
    "print('남학생 평균:',data_m[\"G3\"].mean())\n",
    "print('여학생 평균:',data_w[\"G3\"].mean())\n",
    "\n",
    "# 0점을 받은 학생은 결측치로 판단, 제거하고 평균을 계산\n",
    "print('남학생 평균(0점 제거):',data_m[data_m[\"G3\"]>0][\"G3\"].mean())\n",
    "print('여학생 평균(0점 제거):',data_f[data_f[\"G3\"]>0][\"G3\"].mean())"
   ]
  },
  {
   "cell_type": "code",
   "execution_count": 187,
   "id": "a5fd3666-17eb-4c03-a895-9fd5efe6b420",
   "metadata": {
    "execution": {
     "iopub.execute_input": "2024-11-27T16:02:37.215512Z",
     "iopub.status.busy": "2024-11-27T16:02:37.207175Z",
     "iopub.status.idle": "2024-11-27T16:02:37.239440Z",
     "shell.execute_reply": "2024-11-27T16:02:37.239440Z",
     "shell.execute_reply.started": "2024-11-27T16:02:37.215512Z"
    }
   },
   "outputs": [],
   "source": [
    "# 성별별 기말고사 점수를 추출\n",
    "g3_m=data_m[data_m[\"G3\"]>0][\"G3\"]\n",
    "g3_w=data_f[data_f[\"G3\"]>0][\"G3\"]"
   ]
  },
  {
   "cell_type": "code",
   "execution_count": 188,
   "id": "37bd2343-5262-4795-87ef-a5d7b74a66f7",
   "metadata": {
    "execution": {
     "iopub.execute_input": "2024-11-27T16:02:37.247482Z",
     "iopub.status.busy": "2024-11-27T16:02:37.247482Z",
     "iopub.status.idle": "2024-11-27T16:02:38.390314Z",
     "shell.execute_reply": "2024-11-27T16:02:38.390314Z",
     "shell.execute_reply.started": "2024-11-27T16:02:37.247482Z"
    }
   },
   "outputs": [
    {
     "name": "stdout",
     "output_type": "stream",
     "text": [
      "정규성을 가진다고 보기에는 어려워 보입니다.\n"
     ]
    },
    {
     "data": {
      "image/png": "[encoded data removed]",
      "text/plain": [
       "<Figure size 1200x600 with 2 Axes>"
      ]
     },
     "metadata": {},
     "output_type": "display_data"
    }
   ],
   "source": [
    "# Q-Q plot을 통해 데이터가 정규성을 따르는지 시각적으로 확인\n",
    "\n",
    "import matplotlib.pyplot as plt\n",
    "import statsmodels.api as sm\n",
    "\n",
    "fig,axes=plt.subplots(1,2,figsize=(12, 6))\n",
    "\n",
    "sm.qqplot(g3_m, line='45', ax=axes[0])\n",
    "axes[0].set_title('g3_m')\n",
    "sm.qqplot(g3_w, line='45', ax=axes[1])\n",
    "axes[1].set_title('g3_w')\n",
    "\n",
    "print('정규성을 가진다고 보기에는 어려워 보입니다.')"
   ]
  },
  {
   "cell_type": "code",
   "execution_count": 189,
   "id": "10f841c9-9bca-4fe2-9f07-734aeea4fe4a",
   "metadata": {
    "execution": {
     "iopub.execute_input": "2024-11-27T16:02:38.404542Z",
     "iopub.status.busy": "2024-11-27T16:02:38.399332Z",
     "iopub.status.idle": "2024-11-27T16:02:38.438437Z",
     "shell.execute_reply": "2024-11-27T16:02:38.438437Z",
     "shell.execute_reply.started": "2024-11-27T16:02:38.404542Z"
    }
   },
   "outputs": [
    {
     "name": "stdout",
     "output_type": "stream",
     "text": [
      "[남학생의 기말고사 점수]\n",
      "shapiro test의 p-value: 4.664006701204926e-05\n",
      "cut-off 0.05에서 정규성을 따르지 않는다고 볼 수 있습니다.\n",
      "\n",
      "[여학생의 기말고사 점수]\n",
      "shapiro test의 p-value: 0.006041768938302994\n",
      "cut-off 0.05에서 정규성을 따르지 않는다고 볼 수 있습니다.\n"
     ]
    }
   ],
   "source": [
    "# 데이터가 정규성을 따르는지 Shapiro-Wilk Test를 통해 수치적으로 확인\n",
    "from scipy.stats import shapiro\n",
    "\n",
    "_,p_m=shapiro(g3_m)\n",
    "_,p_w=shapiro(g3_w)\n",
    "\n",
    "print('[남학생의 기말고사 점수]')\n",
    "print('shapiro test의 p-value:',p_m)\n",
    "if(p_m<0.05): print('cut-off 0.05에서 정규성을 따르지 않는다고 볼 수 있습니다.')\n",
    "else: print('cut-off 0.05에서 정규성을 따른다고 볼 수 있습니다.')\n",
    "    \n",
    "print()\n",
    "\n",
    "print('[여학생의 기말고사 점수]')\n",
    "print('shapiro test의 p-value:',p_w)\n",
    "if(p_w<0.05): print('cut-off 0.05에서 정규성을 따르지 않는다고 볼 수 있습니다.')\n",
    "else: print('cut-off 0.05에서 정규성을 따른다고 볼 수 있습니다.')"
   ]
  },
  {
   "cell_type": "code",
   "execution_count": 190,
   "id": "1741781b-2f6b-43ab-acd9-500e294f29ba",
   "metadata": {
    "execution": {
     "iopub.execute_input": "2024-11-27T16:02:38.444931Z",
     "iopub.status.busy": "2024-11-27T16:02:38.444931Z",
     "iopub.status.idle": "2024-11-27T16:02:38.471493Z",
     "shell.execute_reply": "2024-11-27T16:02:38.469835Z",
     "shell.execute_reply.started": "2024-11-27T16:02:38.444931Z"
    }
   },
   "outputs": [
    {
     "name": "stdout",
     "output_type": "stream",
     "text": [
      "rank-sum test의 p-value: 0.03983660674314329\n",
      "cut-off 0.05에서 남,녀의 포르투갈어 기말고사 점수의 차이가 있다고 볼 수 있습니다.\n"
     ]
    }
   ],
   "source": [
    "# 데이터가 정규성을 따르지 않으므로 비모수적 방법인 rank-sum test를\n",
    "# 통해 남,녀의 수학 기말고사 점수가 차이가 나는지 test\n",
    "from scipy.stats import ranksums\n",
    "\n",
    "_,p=ranksums(g3_m,g3_w)\n",
    "print('rank-sum test의 p-value:',p)\n",
    "if(p<0.05): print('cut-off 0.05에서 남,녀의 포르투갈어 기말고사 점수의 차이가 있다고 볼 수 있습니다.')\n",
    "else: print('cut-off 0.05에서 남,녀의 포르투갈어 기말고사 점수의 차이가 있다고 보기는 어렵습니다.')"
   ]
  },
  {
   "cell_type": "code",
   "execution_count": 191,
   "id": "fd658c1a-080e-4ac3-8149-4389b5a53bc3",
   "metadata": {
    "execution": {
     "iopub.execute_input": "2024-11-27T16:02:38.471493Z",
     "iopub.status.busy": "2024-11-27T16:02:38.471493Z",
     "iopub.status.idle": "2024-11-27T16:02:39.551624Z",
     "shell.execute_reply": "2024-11-27T16:02:39.550615Z",
     "shell.execute_reply.started": "2024-11-27T16:02:38.471493Z"
    }
   },
   "outputs": [
    {
     "name": "stdout",
     "output_type": "stream",
     "text": [
      "시각적으로 분포의 차이가 있는 것으로 보입니다.\n"
     ]
    },
    {
     "data": {
      "image/png": "[encoded data removed]",
      "text/plain": [
       "<Figure size 1200x600 with 2 Axes>"
      ]
     },
     "metadata": {},
     "output_type": "display_data"
    }
   ],
   "source": [
    "# 3\n",
    "# 성별에 따라 포르투갈어 기말고사 점수의 차이가 진짜 있는 것인지\n",
    "# 아니면 성별에 따라 다른 변수의 값의 분포가 달라 그렇게 관측이 된 것인지\n",
    "# 확실하지 않습니다.\n",
    "\n",
    "# ChatGPT를 이용해 csv파일의 컬럼들의 의미를 파악하였고, 음주에 관련된 변수인\n",
    "# Dalc과 Walc이 있다는 것을 알게 되었습니다.\n",
    "# 직관적으로 생각했을 때, 성별보다는 음주빈도에 따라 성적 변동이 있을 것으로 생각되어\n",
    "# 성별에 따라 음주빈도가 다른지 boxplot을 그려 시각적으로 확인했습니다.\n",
    "import seaborn as sns\n",
    "\n",
    "data=pd.read_csv('student-por.csv')\n",
    "fig,axes=plt.subplots(1,2,figsize=(12, 6))\n",
    "sns.boxplot(x=data['sex'], y=data['Dalc'], ax=axes[0])\n",
    "axes[0].set_title('Daily Alcohol Consumption')\n",
    "sns.boxplot(x=data['sex'], y=data['Walc'], ax=axes[1])\n",
    "axes[1].set_title('Weekend Alcohol Consumption')\n",
    "\n",
    "print('시각적으로 분포의 차이가 있는 것으로 보입니다.')"
   ]
  },
  {
   "cell_type": "code",
   "execution_count": 5,
   "id": "c5b25668-b058-4039-87e3-f05e5dd4fca1",
   "metadata": {
    "execution": {
     "iopub.execute_input": "2024-11-28T10:21:23.826447Z",
     "iopub.status.busy": "2024-11-28T10:21:23.824615Z",
     "iopub.status.idle": "2024-11-28T10:21:23.845332Z",
     "shell.execute_reply": "2024-11-28T10:21:23.842687Z",
     "shell.execute_reply.started": "2024-11-28T10:21:23.826300Z"
    }
   },
   "outputs": [],
   "source": [
    "# 따라서 rank-sum test에서 성별에 따라 포르투갈어 기말고사 성적이 차이가 난다고 보여진 것은\n",
    "# 성별이 독립적인 요인이 되어 기말고사 성적에 영향을 미쳤다고 보는 것이 좋지 않습니다.\n",
    "#\n",
    "# 실제로 음주빈도만이 독립적인 요인으로 기말고사 성적에 영향을 미친다고해도\n",
    "# 성별별 음주빈도가 다르므로, 성별이 기말고사 성적에 영향을 미친다고 오인할 수 있습니다."
   ]
  }
 ],
 "metadata": {
  "kernelspec": {
   "display_name": "sda2024",
   "language": "python",
   "name": "sda2024"
  },
  "language_info": {
   "codemirror_mode": {
    "name": "ipython",
    "version": 3
   },
   "file_extension": ".py",
   "mimetype": "text/x-python",
   "name": "python",
   "nbconvert_exporter": "python",
   "pygments_lexer": "ipython3",
   "version": "3.8.18"
  }
 },
 "nbformat": 4,
 "nbformat_minor": 5
}

{
 "cells": [
  {
   "cell_type": "code",
   "execution_count": 7,
   "id": "92a0b685-b7cf-42df-8909-ff046c6faefd",
   "metadata": {
    "execution": {
     "iopub.execute_input": "2024-10-03T15:01:22.256972Z",
     "iopub.status.busy": "2024-10-03T15:01:22.255766Z",
     "iopub.status.idle": "2024-10-03T15:01:22.273488Z",
     "shell.execute_reply": "2024-10-03T15:01:22.273488Z",
     "shell.execute_reply.started": "2024-10-03T15:01:22.256972Z"
    }
   },
   "outputs": [],
   "source": [
    "import time\n",
    "import numpy as np\n",
    "import pandas as pd\n",
    "import seaborn as sns\n",
    "import matplotlib.pyplot as plt"
   ]
  },
  {
   "cell_type": "code",
   "execution_count": 9,
   "id": "0a4c0c61-8d4f-4866-a865-39a4c814e142",
   "metadata": {
    "execution": {
     "iopub.execute_input": "2024-10-03T15:01:32.616607Z",
     "iopub.status.busy": "2024-10-03T15:01:32.616607Z",
     "iopub.status.idle": "2024-10-03T15:01:32.647683Z",
     "shell.execute_reply": "2024-10-03T15:01:32.645880Z",
     "shell.execute_reply.started": "2024-10-03T15:01:32.616607Z"
    }
   },
   "outputs": [],
   "source": [
    "data=pd.DataFrame({'row':[], 'column':[], 'time(s)':[], 'method':[]})"
   ]
  },
  {
   "cell_type": "code",
   "execution_count": 297,
   "id": "a6d01aa3-6b0c-4ec0-a17b-922572ce526a",
   "metadata": {
    "execution": {
     "iopub.execute_input": "2024-10-03T11:43:50.044974Z",
     "iopub.status.busy": "2024-10-03T11:43:50.043974Z",
     "iopub.status.idle": "2024-10-03T11:43:50.059951Z",
     "shell.execute_reply": "2024-10-03T11:43:50.058954Z",
     "shell.execute_reply.started": "2024-10-03T11:43:50.044974Z"
    }
   },
   "outputs": [],
   "source": [
    "# for loop을 통해 distance를 계산\n",
    "def distance_for(arr):        \n",
    "    dist=np.zeros((arr.shape[0],arr.shape[0]))    \n",
    "    for i in range(arr.shape[0]):\n",
    "        for j in range(i+1,arr.shape[0]):            \n",
    "            sum=0\n",
    "            for k in range(arr.shape[1]):\n",
    "                sum+=np.square(arr[i][k]-arr[j][k])\n",
    "            dist[i][j]=np.round(np.sqrt(sum),2)\n",
    "            dist[j][i]=dist[i][j]\n",
    "    # print(dist)"
   ]
  },
  {
   "cell_type": "code",
   "execution_count": 298,
   "id": "2d8c8d3a-85a7-474c-9ed6-f3ca74cfc34b",
   "metadata": {
    "execution": {
     "iopub.execute_input": "2024-10-03T11:43:50.253549Z",
     "iopub.status.busy": "2024-10-03T11:43:50.252545Z",
     "iopub.status.idle": "2024-10-03T11:43:50.260727Z",
     "shell.execute_reply": "2024-10-03T11:43:50.259756Z",
     "shell.execute_reply.started": "2024-10-03T11:43:50.253549Z"
    }
   },
   "outputs": [],
   "source": [
    "# vectorize를 통해 distance를 계산\n",
    "def distance_vectorize(arr):    \n",
    "    #dist=np.round(np.sqrt(np.sum((arr[:, np.newaxis]-arr)**2, axis=2)),2) -- MemoryError\n",
    "    \n",
    "    sumSquare=np.sum(np.square(arr), axis=1)\n",
    "    mul=np.dot(arr,arr.T)\n",
    "    dist=np.round(np.sqrt(np.abs(sumSquare[:, np.newaxis]+sumSquare-2*mul)),2)\n",
    "    # print(dist)"
   ]
  },
  {
   "cell_type": "code",
   "execution_count": 299,
   "id": "5dba95aa-2b68-4d2b-bab8-6b7ffdb2add9",
   "metadata": {
    "execution": {
     "iopub.execute_input": "2024-10-03T11:43:50.475295Z",
     "iopub.status.busy": "2024-10-03T11:43:50.475295Z",
     "iopub.status.idle": "2024-10-03T11:43:50.853056Z",
     "shell.execute_reply": "2024-10-03T11:43:50.852056Z",
     "shell.execute_reply.started": "2024-10-03T11:43:50.475295Z"
    }
   },
   "outputs": [
    {
     "name": "stdout",
     "output_type": "stream",
     "text": [
      "0.13718\n"
     ]
    }
   ],
   "source": [
    "# row과 column의 크기를 조정하면서 시간을 측정\n",
    "row,col=1000,10000\n",
    "arr=np.random.normal(0,1,(row,col))\n",
    "start = time.time()\n",
    "# distance_for(arr)\n",
    "distance_vectorize(arr)\n",
    "end = time.time()\n",
    "print(round(end-start,5))"
   ]
  },
  {
   "cell_type": "code",
   "execution_count": 300,
   "id": "7928a4ac-f94c-4c74-a560-d79d5d7b7ee8",
   "metadata": {
    "execution": {
     "iopub.execute_input": "2024-10-03T11:43:50.855053Z",
     "iopub.status.busy": "2024-10-03T11:43:50.855053Z",
     "iopub.status.idle": "2024-10-03T11:43:50.868528Z",
     "shell.execute_reply": "2024-10-03T11:43:50.867530Z",
     "shell.execute_reply.started": "2024-10-03T11:43:50.855053Z"
    }
   },
   "outputs": [
    {
     "data": {
      "text/plain": [
       "'\\nfor\\n(10,10) 0.00120 | 0.00151 | 0.00101 | 0.00121 | 0.00199\\n(10,100) 0.00557 | 0.00649 | 0.00609 | 0.00598 | 0.00499\\n(10,1000) 0.06055 | 0.06228 | 0.05294 | 0.05410 | 0.05491\\n(10,10000) 0.51171 | 0.50439 | 0.50801 | 0.51158 | 0.50669\\n(100,10) 0.10738 | 0.11340 | 0.11051 | 0.11214 | 0.11876\\n(100,100) 0.60068 | 0.60882 | 0.60025 | 0.59492 | 0.60427\\n(100,1000) 5.65723 | 5.67052 | 5.75093 | 5.71548 | 5.65877\\n(100,10000) 55.69788 | 55.50849 | 55.88807 | 55.66119 | 55.88618\\n(1000,10) 10.7593 | 10.7629 | 10.76044 | 10.86909 | 10.89428\\n(1000,100) 60.61178 | 60.34644 | 60.53926 | 60.47265 | 60.43022\\n(1000,1000) 598.60519 | 609.50846 | 661.94974 | 630.54715 | 612.99796\\n(1000,10000) 5529.56851 | 5869.51552 | 5743.29614 | 5604.25181 | 5569.06519\\n\\nvectorize\\n(10,10) 0.0 | 0.0 | 0.0 | 0.0 | 0.0\\n(10,100) 0.0 | 0.0 | 0.0 | 0.0 | 0.0\\n(10,1000) 0.0 | 0.001 | 0.001 | 0.0 | 0.001\\n(10,10000) 0.001 | 0.0 | 0.0 | 0.0 | 0.001\\n(100,10) 0.00101 | 0.0 | 0.00106 | 0.0 | 0.001\\n(100,100) 0.0 | 0.0 | 0.001 | 0.0 | 0.001\\n(100,1000) 0.001 | 0.0 | 0.001 | 0.001 | 0.00111\\n(100,10000) 0.00698 | 0.00645 | 0.0065 | 0.00798 | 0.00998\\n(1000,10) 0.0316 | 0.03183 | 0.02973 | 0.02959 | 0.0369\\n(1000,100) 0.02783 | 0.02715 | 0.03354 | 0.03491 | 0.02893\\n(1000,1000) 0.0422 | 0.04001 | 0.05479 | 0.03767 | 0.03738\\n(1000,10000) 0.14479 | 0.14431 | 0.11484 | 0.11619 | 0.12636\\n'"
      ]
     },
     "execution_count": 300,
     "metadata": {},
     "output_type": "execute_result"
    }
   ],
   "source": [
    "'''\n",
    "for\n",
    "(10,10) 0.00120 | 0.00151 | 0.00101 | 0.00121 | 0.00199\n",
    "(10,100) 0.00557 | 0.00649 | 0.00609 | 0.00598 | 0.00499\n",
    "(10,1000) 0.06055 | 0.06228 | 0.05294 | 0.05410 | 0.05491\n",
    "(10,10000) 0.51171 | 0.50439 | 0.50801 | 0.51158 | 0.50669\n",
    "(100,10) 0.10738 | 0.11340 | 0.11051 | 0.11214 | 0.11876\n",
    "(100,100) 0.60068 | 0.60882 | 0.60025 | 0.59492 | 0.60427\n",
    "(100,1000) 5.65723 | 5.67052 | 5.75093 | 5.71548 | 5.65877\n",
    "(100,10000) 55.69788 | 55.50849 | 55.88807 | 55.66119 | 55.88618\n",
    "(1000,10) 10.7593 | 10.7629 | 10.76044 | 10.86909 | 10.89428\n",
    "(1000,100) 60.61178 | 60.34644 | 60.53926 | 60.47265 | 60.43022\n",
    "(1000,1000) 598.60519 | 609.50846 | 661.94974 | 630.54715 | 612.99796\n",
    "(1000,10000) 5529.56851 | 5869.51552 | 5743.29614 | 5604.25181 | 5569.06519\n",
    "\n",
    "vectorize\n",
    "(10,10) 0.0 | 0.0 | 0.0 | 0.0 | 0.0\n",
    "(10,100) 0.0 | 0.0 | 0.0 | 0.0 | 0.0\n",
    "(10,1000) 0.0 | 0.001 | 0.001 | 0.0 | 0.001\n",
    "(10,10000) 0.001 | 0.0 | 0.0 | 0.0 | 0.001\n",
    "(100,10) 0.00101 | 0.0 | 0.00106 | 0.0 | 0.001\n",
    "(100,100) 0.0 | 0.0 | 0.001 | 0.0 | 0.001\n",
    "(100,1000) 0.001 | 0.0 | 0.001 | 0.001 | 0.00111\n",
    "(100,10000) 0.00698 | 0.00645 | 0.0065 | 0.00798 | 0.00998\n",
    "(1000,10) 0.0316 | 0.03183 | 0.02973 | 0.02959 | 0.0369\n",
    "(1000,100) 0.02783 | 0.02715 | 0.03354 | 0.03491 | 0.02893\n",
    "(1000,1000) 0.0422 | 0.04001 | 0.05479 | 0.03767 | 0.03738\n",
    "(1000,10000) 0.14479 | 0.14431 | 0.11484 | 0.11619 | 0.12636\n",
    "'''"
   ]
  },
  {
   "cell_type": "code",
   "execution_count": 11,
   "id": "77460f30-4044-471a-9253-ed3c58295e6a",
   "metadata": {
    "execution": {
     "iopub.execute_input": "2024-10-03T15:01:35.369478Z",
     "iopub.status.busy": "2024-10-03T15:01:35.369478Z",
     "iopub.status.idle": "2024-10-03T15:01:35.436524Z",
     "shell.execute_reply": "2024-10-03T15:01:35.434912Z",
     "shell.execute_reply.started": "2024-10-03T15:01:35.369478Z"
    }
   },
   "outputs": [],
   "source": [
    "# for loop의 결과를 dataframe에 넣기\n",
    "for_loop = '0.00120 | 0.00151 | 0.00101 | 0.00121 | 0.00199\\\n",
    " | 0.00557 | 0.00649 | 0.00609 | 0.00598 | 0.00499\\\n",
    " | 0.06055 | 0.06228 | 0.05294 | 0.05410 | 0.05491\\\n",
    " | 0.51171 | 0.50439 | 0.50801 | 0.51158 | 0.50669\\\n",
    " | 0.10738 | 0.11340 | 0.11051 | 0.11214 | 0.11876\\\n",
    " | 0.60068 | 0.60882 | 0.60025 | 0.59492 | 0.60427\\\n",
    " | 5.65723 | 5.67052 | 5.75093 | 5.71548 | 5.65877\\\n",
    " | 55.69788 | 55.50849 | 55.88807 | 55.66119 | 55.88618\\\n",
    " | 10.7593 | 10.7629 | 10.76044 | 10.86909 | 10.89428\\\n",
    " | 60.61178 | 60.34644 | 60.53926 | 60.47265 | 60.43022\\\n",
    " | 598.60519 | 609.50846 | 661.94974 | 630.54715 | 612.99796\\\n",
    " | 5529.56851 | 5869.51552 | 5743.29614 | 5604.25181 | 5569.06519'\n",
    "list=for_loop.split(' | ')\n",
    "list.reverse()\n",
    "for row in [10,100,1000]:\n",
    "    for col in [10,100,1000,10000]:\n",
    "        sum=0\n",
    "        for i in range(5):\n",
    "            sum+=float(list.pop())\n",
    "        data.loc[data.shape[0]]=[row, col, round(sum/5,5), 'for']"
   ]
  },
  {
   "cell_type": "code",
   "execution_count": 13,
   "id": "ab6afb97-517e-4d96-903f-fc153a831c06",
   "metadata": {
    "execution": {
     "iopub.execute_input": "2024-10-03T15:01:38.568294Z",
     "iopub.status.busy": "2024-10-03T15:01:38.568294Z",
     "iopub.status.idle": "2024-10-03T15:01:38.633988Z",
     "shell.execute_reply": "2024-10-03T15:01:38.633988Z",
     "shell.execute_reply.started": "2024-10-03T15:01:38.568294Z"
    }
   },
   "outputs": [],
   "source": [
    "# vecterize의 결과를 dataframe에 넣기\n",
    "# 각 행렬 사이즈별로 5번씩 측정한 시간을 평균을 내서 사용\n",
    "vecterize = '0.0 | 0.0 | 0.0 | 0.0 | 0.0\\\n",
    " | 0.0 | 0.0 | 0.0 | 0.0 | 0.0\\\n",
    " | 0.0 | 0.001 | 0.001 | 0.0 | 0.001\\\n",
    " | 0.001 | 0.0 | 0.0 | 0.0 | 0.001\\\n",
    " | 0.00101 | 0.0 | 0.00106 | 0.0 | 0.001\\\n",
    " | 0.0 | 0.0 | 0.001 | 0.0 | 0.001\\\n",
    " | 0.001 | 0.0 | 0.001 | 0.001 | 0.00111\\\n",
    " | 0.00698 | 0.00645 | 0.0065 | 0.00798 | 0.00998\\\n",
    " | 0.0316 | 0.03183 | 0.02973 | 0.02959 | 0.0369\\\n",
    " | 0.02783 | 0.02715 | 0.03354 | 0.03491 | 0.02893\\\n",
    " | 0.0422 | 0.04001 | 0.05479 | 0.03767 | 0.03738\\\n",
    " | 0.14479 | 0.14431 | 0.11484 | 0.11619 | 0.12636'\n",
    "list=vecterize.split(' | ')\n",
    "list.reverse()\n",
    "for row in [10,100,1000]:\n",
    "    for col in [10,100,1000,10000]:\n",
    "        sum=0\n",
    "        for i in range(5):\n",
    "            sum+=float(list.pop())\n",
    "        data.loc[data.shape[0]]=[row, col, round(sum/5,5), 'vectorize']"
   ]
  },
  {
   "cell_type": "code",
   "execution_count": 15,
   "id": "63b178f5-dc20-45b8-af59-fd496bfc8fe7",
   "metadata": {
    "execution": {
     "iopub.execute_input": "2024-10-03T15:01:38.936080Z",
     "iopub.status.busy": "2024-10-03T15:01:38.934565Z",
     "iopub.status.idle": "2024-10-03T15:01:38.977768Z",
     "shell.execute_reply": "2024-10-03T15:01:38.976541Z",
     "shell.execute_reply.started": "2024-10-03T15:01:38.936080Z"
    }
   },
   "outputs": [
    {
     "data": {
      "text/html": [
       "<div>\n",
       "<style scoped>\n",
       "    .dataframe tbody tr th:only-of-type {\n",
       "        vertical-align: middle;\n",
       "    }\n",
       "\n",
       "    .dataframe tbody tr th {\n",
       "        vertical-align: top;\n",
       "    }\n",
       "\n",
       "    .dataframe thead th {\n",
       "        text-align: right;\n",
       "    }\n",
       "</style>\n",
       "<table border=\"1\" class=\"dataframe\">\n",
       "  <thead>\n",
       "    <tr style=\"text-align: right;\">\n",
       "      <th></th>\n",
       "      <th>row</th>\n",
       "      <th>column</th>\n",
       "      <th>time(s)</th>\n",
       "      <th>method</th>\n",
       "    </tr>\n",
       "  </thead>\n",
       "  <tbody>\n",
       "    <tr>\n",
       "      <th>0</th>\n",
       "      <td>10</td>\n",
       "      <td>10</td>\n",
       "      <td>0.00138</td>\n",
       "      <td>for</td>\n",
       "    </tr>\n",
       "    <tr>\n",
       "      <th>1</th>\n",
       "      <td>10</td>\n",
       "      <td>100</td>\n",
       "      <td>0.00582</td>\n",
       "      <td>for</td>\n",
       "    </tr>\n",
       "    <tr>\n",
       "      <th>2</th>\n",
       "      <td>10</td>\n",
       "      <td>1000</td>\n",
       "      <td>0.05696</td>\n",
       "      <td>for</td>\n",
       "    </tr>\n",
       "    <tr>\n",
       "      <th>3</th>\n",
       "      <td>10</td>\n",
       "      <td>10000</td>\n",
       "      <td>0.50848</td>\n",
       "      <td>for</td>\n",
       "    </tr>\n",
       "    <tr>\n",
       "      <th>4</th>\n",
       "      <td>100</td>\n",
       "      <td>10</td>\n",
       "      <td>0.11244</td>\n",
       "      <td>for</td>\n",
       "    </tr>\n",
       "  </tbody>\n",
       "</table>\n",
       "</div>"
      ],
      "text/plain": [
       "   row  column  time(s) method\n",
       "0   10      10  0.00138    for\n",
       "1   10     100  0.00582    for\n",
       "2   10    1000  0.05696    for\n",
       "3   10   10000  0.50848    for\n",
       "4  100      10  0.11244    for"
      ]
     },
     "execution_count": 15,
     "metadata": {},
     "output_type": "execute_result"
    }
   ],
   "source": [
    "data.head()"
   ]
  },
  {
   "cell_type": "code",
   "execution_count": 39,
   "id": "8a2c8146-939c-4975-b12c-effcdbc0ac63",
   "metadata": {
    "execution": {
     "iopub.execute_input": "2024-10-03T15:10:21.868559Z",
     "iopub.status.busy": "2024-10-03T15:10:21.865980Z",
     "iopub.status.idle": "2024-10-03T15:10:23.347736Z",
     "shell.execute_reply": "2024-10-03T15:10:23.344488Z",
     "shell.execute_reply.started": "2024-10-03T15:10:21.868559Z"
    }
   },
   "outputs": [
    {
     "data": {
      "image/png": "[encoded data removed]",
      "text/plain": [
       "<Figure size 1400x600 with 4 Axes>"
      ]
     },
     "metadata": {},
     "output_type": "display_data"
    }
   ],
   "source": [
    "fig, axes=plt.subplots(1, 2, figsize=(14, 6))\n",
    "\n",
    "df1=data.loc[data.method=='for']\n",
    "map1=df1.pivot(index='row', columns='column', values='time(s)')\n",
    "sns.heatmap(map1, ax=axes[0], annot=True, fmt='.4g', linewidth=0.5, linecolor='black', vmin=0, vmax=100, cmap='Reds')\n",
    "axes[0].tick_params(axis='y',rotation=0)\n",
    "axes[0].set_title('for loop')\n",
    "\n",
    "df2=data.loc[data.method=='vectorize']\n",
    "map2=df2.pivot(index='row', columns='column', values='time(s)')\n",
    "sns.heatmap(map2, ax=axes[1], annot=True, fmt='.4g', linewidth=0.5, linecolor='black', vmin=0, vmax=100, cmap='Reds')\n",
    "axes[1].tick_params(axis='y',rotation=0)\n",
    "axes[1].set_title('vectorize')\n",
    "\n",
    "plt.suptitle('Execution Time Comparison (sec)')\n",
    "plt.show()"
   ]
  },
  {
   "cell_type": "code",
   "execution_count": 3,
   "id": "05bfefa0-6eed-4100-91ef-1174bbec1f60",
   "metadata": {
    "execution": {
     "iopub.execute_input": "2024-10-03T14:56:35.106991Z",
     "iopub.status.busy": "2024-10-03T14:56:35.106447Z",
     "iopub.status.idle": "2024-10-03T14:56:35.131770Z",
     "shell.execute_reply": "2024-10-03T14:56:35.131259Z",
     "shell.execute_reply.started": "2024-10-03T14:56:35.106991Z"
    }
   },
   "outputs": [
    {
     "name": "stdout",
     "output_type": "stream",
     "text": [
      "[62.25 71.   80.5 ]\n",
      "[62.25, 71.0, 80.5]\n"
     ]
    }
   ],
   "source": [
    "# 3번 문제\n",
    "from statistics import quantiles\n",
    "ll=np.array([55,57,58,59,60,63,64,65,69,70,72,73,75,78,80,82,88,90,110,130])\n",
    "print(np.quantile(ll, (0.25,0.50,0.75)))\n",
    "print(quantiles(ll, method='inclusive'))"
   ]
  },
  {
   "cell_type": "code",
   "execution_count": 5,
   "id": "5aa4521a-6c9d-449b-9cb1-62bfea392ea9",
   "metadata": {
    "execution": {
     "iopub.execute_input": "2024-10-03T14:56:37.348809Z",
     "iopub.status.busy": "2024-10-03T14:56:37.346688Z",
     "iopub.status.idle": "2024-10-03T14:56:37.370120Z",
     "shell.execute_reply": "2024-10-03T14:56:37.370120Z",
     "shell.execute_reply.started": "2024-10-03T14:56:37.348809Z"
    }
   },
   "outputs": [
    {
     "name": "stdout",
     "output_type": "stream",
     "text": [
      "[3.0, 5.0, 7.0]\n",
      "[2.5, 5.0, 7.5]\n"
     ]
    }
   ],
   "source": [
    "from statistics import quantiles\n",
    "ll=np.array([1,2,3,4,5,6,7,8,9])\n",
    "print(quantiles(ll, method='inclusive'))\n",
    "print(quantiles(ll))"
   ]
  }
 ],
 "metadata": {
  "kernelspec": {
   "display_name": "sda2024",
   "language": "python",
   "name": "sda2024"
  },
  "language_info": {
   "codemirror_mode": {
    "name": "ipython",
    "version": 3
   },
   "file_extension": ".py",
   "mimetype": "text/x-python",
   "name": "python",
   "nbconvert_exporter": "python",
   "pygments_lexer": "ipython3",
   "version": "3.8.18"
  }
 },
 "nbformat": 4,
 "nbformat_minor": 5
}

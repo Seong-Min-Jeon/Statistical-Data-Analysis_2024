{
 "cells": [
  {
   "cell_type": "code",
   "execution_count": 8,
   "id": "dc86df0b-e325-4fee-8448-23558fe0aa90",
   "metadata": {
    "execution": {
     "iopub.execute_input": "2024-11-13T09:45:37.132721Z",
     "iopub.status.busy": "2024-11-13T09:45:37.132721Z",
     "iopub.status.idle": "2024-11-13T09:46:21.149254Z",
     "shell.execute_reply": "2024-11-13T09:46:21.147377Z",
     "shell.execute_reply.started": "2024-11-13T09:45:37.132721Z"
    }
   },
   "outputs": [
    {
     "data": {
      "text/html": [
       "<div>\n",
       "<style scoped>\n",
       "    .dataframe tbody tr th:only-of-type {\n",
       "        vertical-align: middle;\n",
       "    }\n",
       "\n",
       "    .dataframe tbody tr th {\n",
       "        vertical-align: top;\n",
       "    }\n",
       "\n",
       "    .dataframe thead th {\n",
       "        text-align: right;\n",
       "    }\n",
       "</style>\n",
       "<table border=\"1\" class=\"dataframe\">\n",
       "  <thead>\n",
       "    <tr style=\"text-align: right;\">\n",
       "      <th></th>\n",
       "      <th>id</th>\n",
       "      <th>base_date</th>\n",
       "      <th>day_of_week</th>\n",
       "      <th>base_hour</th>\n",
       "      <th>lane_count</th>\n",
       "      <th>road_rating</th>\n",
       "      <th>road_name</th>\n",
       "      <th>multi_linked</th>\n",
       "      <th>connect_code</th>\n",
       "      <th>maximum_speed_limit</th>\n",
       "      <th>...</th>\n",
       "      <th>road_type</th>\n",
       "      <th>start_node_name</th>\n",
       "      <th>start_latitude</th>\n",
       "      <th>start_longitude</th>\n",
       "      <th>start_turn_restricted</th>\n",
       "      <th>end_node_name</th>\n",
       "      <th>end_latitude</th>\n",
       "      <th>end_longitude</th>\n",
       "      <th>end_turn_restricted</th>\n",
       "      <th>target</th>\n",
       "    </tr>\n",
       "  </thead>\n",
       "  <tbody>\n",
       "    <tr>\n",
       "      <th>0</th>\n",
       "      <td>TRAIN_0000000</td>\n",
       "      <td>20220623</td>\n",
       "      <td>목</td>\n",
       "      <td>17</td>\n",
       "      <td>1</td>\n",
       "      <td>106</td>\n",
       "      <td>지방도1112호선</td>\n",
       "      <td>0</td>\n",
       "      <td>0</td>\n",
       "      <td>60.0</td>\n",
       "      <td>...</td>\n",
       "      <td>3</td>\n",
       "      <td>제3교래교</td>\n",
       "      <td>33.427747</td>\n",
       "      <td>126.662612</td>\n",
       "      <td>없음</td>\n",
       "      <td>제3교래교</td>\n",
       "      <td>33.427749</td>\n",
       "      <td>126.662335</td>\n",
       "      <td>없음</td>\n",
       "      <td>52.0</td>\n",
       "    </tr>\n",
       "    <tr>\n",
       "      <th>1</th>\n",
       "      <td>TRAIN_0000001</td>\n",
       "      <td>20220728</td>\n",
       "      <td>목</td>\n",
       "      <td>21</td>\n",
       "      <td>2</td>\n",
       "      <td>103</td>\n",
       "      <td>일반국도11호선</td>\n",
       "      <td>0</td>\n",
       "      <td>0</td>\n",
       "      <td>60.0</td>\n",
       "      <td>...</td>\n",
       "      <td>0</td>\n",
       "      <td>광양사거리</td>\n",
       "      <td>33.500730</td>\n",
       "      <td>126.529107</td>\n",
       "      <td>있음</td>\n",
       "      <td>KAL사거리</td>\n",
       "      <td>33.504811</td>\n",
       "      <td>126.526240</td>\n",
       "      <td>없음</td>\n",
       "      <td>30.0</td>\n",
       "    </tr>\n",
       "    <tr>\n",
       "      <th>2</th>\n",
       "      <td>TRAIN_0000002</td>\n",
       "      <td>20211010</td>\n",
       "      <td>일</td>\n",
       "      <td>7</td>\n",
       "      <td>2</td>\n",
       "      <td>103</td>\n",
       "      <td>일반국도16호선</td>\n",
       "      <td>0</td>\n",
       "      <td>0</td>\n",
       "      <td>80.0</td>\n",
       "      <td>...</td>\n",
       "      <td>0</td>\n",
       "      <td>창고천교</td>\n",
       "      <td>33.279145</td>\n",
       "      <td>126.368598</td>\n",
       "      <td>없음</td>\n",
       "      <td>상창육교</td>\n",
       "      <td>33.280072</td>\n",
       "      <td>126.362147</td>\n",
       "      <td>없음</td>\n",
       "      <td>61.0</td>\n",
       "    </tr>\n",
       "    <tr>\n",
       "      <th>3</th>\n",
       "      <td>TRAIN_0000003</td>\n",
       "      <td>20220311</td>\n",
       "      <td>금</td>\n",
       "      <td>13</td>\n",
       "      <td>2</td>\n",
       "      <td>107</td>\n",
       "      <td>태평로</td>\n",
       "      <td>0</td>\n",
       "      <td>0</td>\n",
       "      <td>50.0</td>\n",
       "      <td>...</td>\n",
       "      <td>0</td>\n",
       "      <td>남양리조트</td>\n",
       "      <td>33.246081</td>\n",
       "      <td>126.567204</td>\n",
       "      <td>없음</td>\n",
       "      <td>서현주택</td>\n",
       "      <td>33.245565</td>\n",
       "      <td>126.566228</td>\n",
       "      <td>없음</td>\n",
       "      <td>20.0</td>\n",
       "    </tr>\n",
       "    <tr>\n",
       "      <th>4</th>\n",
       "      <td>TRAIN_0000004</td>\n",
       "      <td>20211005</td>\n",
       "      <td>화</td>\n",
       "      <td>8</td>\n",
       "      <td>2</td>\n",
       "      <td>103</td>\n",
       "      <td>일반국도12호선</td>\n",
       "      <td>0</td>\n",
       "      <td>0</td>\n",
       "      <td>80.0</td>\n",
       "      <td>...</td>\n",
       "      <td>0</td>\n",
       "      <td>애월샷시</td>\n",
       "      <td>33.462214</td>\n",
       "      <td>126.326551</td>\n",
       "      <td>없음</td>\n",
       "      <td>애월입구</td>\n",
       "      <td>33.462677</td>\n",
       "      <td>126.330152</td>\n",
       "      <td>없음</td>\n",
       "      <td>38.0</td>\n",
       "    </tr>\n",
       "  </tbody>\n",
       "</table>\n",
       "<p>5 rows × 23 columns</p>\n",
       "</div>"
      ],
      "text/plain": [
       "              id  base_date day_of_week  base_hour  lane_count  road_rating  \\\n",
       "0  TRAIN_0000000   20220623           목         17           1          106   \n",
       "1  TRAIN_0000001   20220728           목         21           2          103   \n",
       "2  TRAIN_0000002   20211010           일          7           2          103   \n",
       "3  TRAIN_0000003   20220311           금         13           2          107   \n",
       "4  TRAIN_0000004   20211005           화          8           2          103   \n",
       "\n",
       "   road_name  multi_linked  connect_code  maximum_speed_limit  ...  road_type  \\\n",
       "0  지방도1112호선             0             0                 60.0  ...          3   \n",
       "1   일반국도11호선             0             0                 60.0  ...          0   \n",
       "2   일반국도16호선             0             0                 80.0  ...          0   \n",
       "3        태평로             0             0                 50.0  ...          0   \n",
       "4   일반국도12호선             0             0                 80.0  ...          0   \n",
       "\n",
       "   start_node_name  start_latitude  start_longitude start_turn_restricted  \\\n",
       "0            제3교래교       33.427747       126.662612                    없음   \n",
       "1            광양사거리       33.500730       126.529107                    있음   \n",
       "2             창고천교       33.279145       126.368598                    없음   \n",
       "3            남양리조트       33.246081       126.567204                    없음   \n",
       "4             애월샷시       33.462214       126.326551                    없음   \n",
       "\n",
       "   end_node_name  end_latitude end_longitude end_turn_restricted  target  \n",
       "0          제3교래교     33.427749    126.662335                  없음    52.0  \n",
       "1         KAL사거리     33.504811    126.526240                  없음    30.0  \n",
       "2           상창육교     33.280072    126.362147                  없음    61.0  \n",
       "3           서현주택     33.245565    126.566228                  없음    20.0  \n",
       "4           애월입구     33.462677    126.330152                  없음    38.0  \n",
       "\n",
       "[5 rows x 23 columns]"
      ]
     },
     "execution_count": 8,
     "metadata": {},
     "output_type": "execute_result"
    }
   ],
   "source": [
    "import pandas as pd\n",
    "import numpy as np\n",
    "\n",
    "data=pd.read_csv('train.csv')\n",
    "data.head()"
   ]
  },
  {
   "cell_type": "code",
   "execution_count": 14,
   "id": "71936de4-2a31-4f88-8307-883e4b68495e",
   "metadata": {
    "execution": {
     "iopub.execute_input": "2024-11-13T09:52:59.569579Z",
     "iopub.status.busy": "2024-11-13T09:52:59.563068Z",
     "iopub.status.idle": "2024-11-13T09:52:59.642229Z",
     "shell.execute_reply": "2024-11-13T09:52:59.641213Z",
     "shell.execute_reply.started": "2024-11-13T09:52:59.569579Z"
    }
   },
   "outputs": [
    {
     "data": {
      "text/html": [
       "<div>\n",
       "<style scoped>\n",
       "    .dataframe tbody tr th:only-of-type {\n",
       "        vertical-align: middle;\n",
       "    }\n",
       "\n",
       "    .dataframe tbody tr th {\n",
       "        vertical-align: top;\n",
       "    }\n",
       "\n",
       "    .dataframe thead th {\n",
       "        text-align: right;\n",
       "    }\n",
       "</style>\n",
       "<table border=\"1\" class=\"dataframe\">\n",
       "  <thead>\n",
       "    <tr style=\"text-align: right;\">\n",
       "      <th></th>\n",
       "      <th>변수명</th>\n",
       "      <th>변수 설명</th>\n",
       "    </tr>\n",
       "  </thead>\n",
       "  <tbody>\n",
       "    <tr>\n",
       "      <th>0</th>\n",
       "      <td>id</td>\n",
       "      <td>아이디</td>\n",
       "    </tr>\n",
       "    <tr>\n",
       "      <th>1</th>\n",
       "      <td>base_date</td>\n",
       "      <td>날짜</td>\n",
       "    </tr>\n",
       "    <tr>\n",
       "      <th>2</th>\n",
       "      <td>day_of_week</td>\n",
       "      <td>요일</td>\n",
       "    </tr>\n",
       "    <tr>\n",
       "      <th>3</th>\n",
       "      <td>base_hour</td>\n",
       "      <td>시간대</td>\n",
       "    </tr>\n",
       "    <tr>\n",
       "      <th>4</th>\n",
       "      <td>road_in_use</td>\n",
       "      <td>도로사용여부</td>\n",
       "    </tr>\n",
       "    <tr>\n",
       "      <th>5</th>\n",
       "      <td>lane_count</td>\n",
       "      <td>차로수</td>\n",
       "    </tr>\n",
       "    <tr>\n",
       "      <th>6</th>\n",
       "      <td>road_rating</td>\n",
       "      <td>도로등급</td>\n",
       "    </tr>\n",
       "    <tr>\n",
       "      <th>7</th>\n",
       "      <td>multi_linked</td>\n",
       "      <td>중용구간 여부</td>\n",
       "    </tr>\n",
       "    <tr>\n",
       "      <th>8</th>\n",
       "      <td>connect_code</td>\n",
       "      <td>연결로 코드</td>\n",
       "    </tr>\n",
       "    <tr>\n",
       "      <th>9</th>\n",
       "      <td>maximum_speed_limit</td>\n",
       "      <td>최고속도제한</td>\n",
       "    </tr>\n",
       "    <tr>\n",
       "      <th>10</th>\n",
       "      <td>weight_restricted</td>\n",
       "      <td>통과제한하중</td>\n",
       "    </tr>\n",
       "    <tr>\n",
       "      <th>11</th>\n",
       "      <td>height_restricted</td>\n",
       "      <td>통과제한높이</td>\n",
       "    </tr>\n",
       "    <tr>\n",
       "      <th>12</th>\n",
       "      <td>road_type</td>\n",
       "      <td>도로유형</td>\n",
       "    </tr>\n",
       "    <tr>\n",
       "      <th>13</th>\n",
       "      <td>start_latitude</td>\n",
       "      <td>시작지점의 위도</td>\n",
       "    </tr>\n",
       "    <tr>\n",
       "      <th>14</th>\n",
       "      <td>start_longitude</td>\n",
       "      <td>시작지점의 경도</td>\n",
       "    </tr>\n",
       "    <tr>\n",
       "      <th>15</th>\n",
       "      <td>start_turn_restricted</td>\n",
       "      <td>시작 지점의 회전제한 유무</td>\n",
       "    </tr>\n",
       "    <tr>\n",
       "      <th>16</th>\n",
       "      <td>end_latitude</td>\n",
       "      <td>도착지점의 위도</td>\n",
       "    </tr>\n",
       "    <tr>\n",
       "      <th>17</th>\n",
       "      <td>end_longitude</td>\n",
       "      <td>도착지점의 경도</td>\n",
       "    </tr>\n",
       "    <tr>\n",
       "      <th>18</th>\n",
       "      <td>end_turn_restricted</td>\n",
       "      <td>도작지점의 회전제한 유무</td>\n",
       "    </tr>\n",
       "    <tr>\n",
       "      <th>19</th>\n",
       "      <td>road_name</td>\n",
       "      <td>도로명</td>\n",
       "    </tr>\n",
       "    <tr>\n",
       "      <th>20</th>\n",
       "      <td>start_node_name</td>\n",
       "      <td>시작지점명</td>\n",
       "    </tr>\n",
       "    <tr>\n",
       "      <th>21</th>\n",
       "      <td>end_node_name</td>\n",
       "      <td>도착지점명</td>\n",
       "    </tr>\n",
       "    <tr>\n",
       "      <th>22</th>\n",
       "      <td>vehicle_restricted</td>\n",
       "      <td>통과제한차량</td>\n",
       "    </tr>\n",
       "    <tr>\n",
       "      <th>23</th>\n",
       "      <td>target</td>\n",
       "      <td>평균속도(km)</td>\n",
       "    </tr>\n",
       "  </tbody>\n",
       "</table>\n",
       "</div>"
      ],
      "text/plain": [
       "                      변수명           변수 설명\n",
       "0                      id             아이디\n",
       "1               base_date              날짜\n",
       "2             day_of_week              요일\n",
       "3               base_hour             시간대\n",
       "4             road_in_use          도로사용여부\n",
       "5              lane_count             차로수\n",
       "6             road_rating            도로등급\n",
       "7            multi_linked         중용구간 여부\n",
       "8            connect_code          연결로 코드\n",
       "9     maximum_speed_limit          최고속도제한\n",
       "10      weight_restricted          통과제한하중\n",
       "11      height_restricted          통과제한높이\n",
       "12              road_type            도로유형\n",
       "13         start_latitude        시작지점의 위도\n",
       "14        start_longitude        시작지점의 경도\n",
       "15  start_turn_restricted  시작 지점의 회전제한 유무\n",
       "16           end_latitude        도착지점의 위도\n",
       "17          end_longitude        도착지점의 경도\n",
       "18    end_turn_restricted   도작지점의 회전제한 유무\n",
       "19              road_name             도로명\n",
       "20        start_node_name           시작지점명\n",
       "21          end_node_name           도착지점명\n",
       "22     vehicle_restricted          통과제한차량\n",
       "23                 target        평균속도(km)"
      ]
     },
     "execution_count": 14,
     "metadata": {},
     "output_type": "execute_result"
    }
   ],
   "source": [
    "# header에 대한 설명\n",
    "pd.read_csv('data_info.csv')"
   ]
  },
  {
   "cell_type": "code",
   "execution_count": 16,
   "id": "5ddc9a85-6e6c-447c-8f74-8007a9cbdab6",
   "metadata": {
    "execution": {
     "iopub.execute_input": "2024-11-13T09:53:00.109016Z",
     "iopub.status.busy": "2024-11-13T09:53:00.109016Z",
     "iopub.status.idle": "2024-11-13T09:53:03.198834Z",
     "shell.execute_reply": "2024-11-13T09:53:03.198834Z",
     "shell.execute_reply.started": "2024-11-13T09:53:00.109016Z"
    }
   },
   "outputs": [
    {
     "data": {
      "text/plain": [
       "id                       0\n",
       "base_date                0\n",
       "day_of_week              0\n",
       "base_hour                0\n",
       "lane_count               0\n",
       "road_rating              0\n",
       "road_name                0\n",
       "multi_linked             0\n",
       "connect_code             0\n",
       "maximum_speed_limit      0\n",
       "vehicle_restricted       0\n",
       "weight_restricted        0\n",
       "height_restricted        0\n",
       "road_type                0\n",
       "start_node_name          0\n",
       "start_latitude           0\n",
       "start_longitude          0\n",
       "start_turn_restricted    0\n",
       "end_node_name            0\n",
       "end_latitude             0\n",
       "end_longitude            0\n",
       "end_turn_restricted      0\n",
       "target                   0\n",
       "dtype: int64"
      ]
     },
     "execution_count": 16,
     "metadata": {},
     "output_type": "execute_result"
    }
   ],
   "source": [
    "# 데이터에 null값이 있는지 체크 (road_name에 -기호로 결측치가 표기되어있습니다.)\n",
    "data.isnull().sum()"
   ]
  },
  {
   "cell_type": "code",
   "execution_count": 17,
   "id": "88124c0c-1168-403c-a86b-6cf3cdc35ebf",
   "metadata": {
    "execution": {
     "iopub.execute_input": "2024-11-13T09:53:03.206834Z",
     "iopub.status.busy": "2024-11-13T09:53:03.206834Z",
     "iopub.status.idle": "2024-11-13T09:53:07.403843Z",
     "shell.execute_reply": "2024-11-13T09:53:07.402837Z",
     "shell.execute_reply.started": "2024-11-13T09:53:03.206834Z"
    }
   },
   "outputs": [
    {
     "data": {
      "text/html": [
       "<div>\n",
       "<style scoped>\n",
       "    .dataframe tbody tr th:only-of-type {\n",
       "        vertical-align: middle;\n",
       "    }\n",
       "\n",
       "    .dataframe tbody tr th {\n",
       "        vertical-align: top;\n",
       "    }\n",
       "\n",
       "    .dataframe thead th {\n",
       "        text-align: right;\n",
       "    }\n",
       "</style>\n",
       "<table border=\"1\" class=\"dataframe\">\n",
       "  <thead>\n",
       "    <tr style=\"text-align: right;\">\n",
       "      <th></th>\n",
       "      <th>id</th>\n",
       "      <th>base_date</th>\n",
       "      <th>day_of_week</th>\n",
       "      <th>base_hour</th>\n",
       "      <th>lane_count</th>\n",
       "      <th>road_rating</th>\n",
       "      <th>road_name</th>\n",
       "      <th>multi_linked</th>\n",
       "      <th>connect_code</th>\n",
       "      <th>maximum_speed_limit</th>\n",
       "      <th>...</th>\n",
       "      <th>start_node_name</th>\n",
       "      <th>start_latitude</th>\n",
       "      <th>start_longitude</th>\n",
       "      <th>start_turn_restricted</th>\n",
       "      <th>end_node_name</th>\n",
       "      <th>end_latitude</th>\n",
       "      <th>end_longitude</th>\n",
       "      <th>end_turn_restricted</th>\n",
       "      <th>target</th>\n",
       "      <th>traffic</th>\n",
       "    </tr>\n",
       "  </thead>\n",
       "  <tbody>\n",
       "    <tr>\n",
       "      <th>0</th>\n",
       "      <td>TRAIN_0000000</td>\n",
       "      <td>20220623</td>\n",
       "      <td>목</td>\n",
       "      <td>17</td>\n",
       "      <td>1</td>\n",
       "      <td>106</td>\n",
       "      <td>지방도1112호선</td>\n",
       "      <td>0</td>\n",
       "      <td>0</td>\n",
       "      <td>60.0</td>\n",
       "      <td>...</td>\n",
       "      <td>제3교래교</td>\n",
       "      <td>33.427747</td>\n",
       "      <td>126.662612</td>\n",
       "      <td>없음</td>\n",
       "      <td>제3교래교</td>\n",
       "      <td>33.427749</td>\n",
       "      <td>126.662335</td>\n",
       "      <td>없음</td>\n",
       "      <td>52.0</td>\n",
       "      <td>0.544643</td>\n",
       "    </tr>\n",
       "    <tr>\n",
       "      <th>1</th>\n",
       "      <td>TRAIN_0000001</td>\n",
       "      <td>20220728</td>\n",
       "      <td>목</td>\n",
       "      <td>21</td>\n",
       "      <td>2</td>\n",
       "      <td>103</td>\n",
       "      <td>일반국도11호선</td>\n",
       "      <td>0</td>\n",
       "      <td>0</td>\n",
       "      <td>60.0</td>\n",
       "      <td>...</td>\n",
       "      <td>광양사거리</td>\n",
       "      <td>33.500730</td>\n",
       "      <td>126.529107</td>\n",
       "      <td>있음</td>\n",
       "      <td>KAL사거리</td>\n",
       "      <td>33.504811</td>\n",
       "      <td>126.526240</td>\n",
       "      <td>없음</td>\n",
       "      <td>30.0</td>\n",
       "      <td>0.741071</td>\n",
       "    </tr>\n",
       "    <tr>\n",
       "      <th>2</th>\n",
       "      <td>TRAIN_0000002</td>\n",
       "      <td>20211010</td>\n",
       "      <td>일</td>\n",
       "      <td>7</td>\n",
       "      <td>2</td>\n",
       "      <td>103</td>\n",
       "      <td>일반국도16호선</td>\n",
       "      <td>0</td>\n",
       "      <td>0</td>\n",
       "      <td>80.0</td>\n",
       "      <td>...</td>\n",
       "      <td>창고천교</td>\n",
       "      <td>33.279145</td>\n",
       "      <td>126.368598</td>\n",
       "      <td>없음</td>\n",
       "      <td>상창육교</td>\n",
       "      <td>33.280072</td>\n",
       "      <td>126.362147</td>\n",
       "      <td>없음</td>\n",
       "      <td>61.0</td>\n",
       "      <td>0.464286</td>\n",
       "    </tr>\n",
       "    <tr>\n",
       "      <th>3</th>\n",
       "      <td>TRAIN_0000003</td>\n",
       "      <td>20220311</td>\n",
       "      <td>금</td>\n",
       "      <td>13</td>\n",
       "      <td>2</td>\n",
       "      <td>107</td>\n",
       "      <td>태평로</td>\n",
       "      <td>0</td>\n",
       "      <td>0</td>\n",
       "      <td>50.0</td>\n",
       "      <td>...</td>\n",
       "      <td>남양리조트</td>\n",
       "      <td>33.246081</td>\n",
       "      <td>126.567204</td>\n",
       "      <td>없음</td>\n",
       "      <td>서현주택</td>\n",
       "      <td>33.245565</td>\n",
       "      <td>126.566228</td>\n",
       "      <td>없음</td>\n",
       "      <td>20.0</td>\n",
       "      <td>0.830357</td>\n",
       "    </tr>\n",
       "    <tr>\n",
       "      <th>4</th>\n",
       "      <td>TRAIN_0000004</td>\n",
       "      <td>20211005</td>\n",
       "      <td>화</td>\n",
       "      <td>8</td>\n",
       "      <td>2</td>\n",
       "      <td>103</td>\n",
       "      <td>일반국도12호선</td>\n",
       "      <td>0</td>\n",
       "      <td>0</td>\n",
       "      <td>80.0</td>\n",
       "      <td>...</td>\n",
       "      <td>애월샷시</td>\n",
       "      <td>33.462214</td>\n",
       "      <td>126.326551</td>\n",
       "      <td>없음</td>\n",
       "      <td>애월입구</td>\n",
       "      <td>33.462677</td>\n",
       "      <td>126.330152</td>\n",
       "      <td>없음</td>\n",
       "      <td>38.0</td>\n",
       "      <td>0.669643</td>\n",
       "    </tr>\n",
       "    <tr>\n",
       "      <th>...</th>\n",
       "      <td>...</td>\n",
       "      <td>...</td>\n",
       "      <td>...</td>\n",
       "      <td>...</td>\n",
       "      <td>...</td>\n",
       "      <td>...</td>\n",
       "      <td>...</td>\n",
       "      <td>...</td>\n",
       "      <td>...</td>\n",
       "      <td>...</td>\n",
       "      <td>...</td>\n",
       "      <td>...</td>\n",
       "      <td>...</td>\n",
       "      <td>...</td>\n",
       "      <td>...</td>\n",
       "      <td>...</td>\n",
       "      <td>...</td>\n",
       "      <td>...</td>\n",
       "      <td>...</td>\n",
       "      <td>...</td>\n",
       "      <td>...</td>\n",
       "    </tr>\n",
       "    <tr>\n",
       "      <th>4701212</th>\n",
       "      <td>TRAIN_4701212</td>\n",
       "      <td>20211104</td>\n",
       "      <td>목</td>\n",
       "      <td>16</td>\n",
       "      <td>1</td>\n",
       "      <td>107</td>\n",
       "      <td>-</td>\n",
       "      <td>0</td>\n",
       "      <td>0</td>\n",
       "      <td>50.0</td>\n",
       "      <td>...</td>\n",
       "      <td>대림사거리</td>\n",
       "      <td>33.422145</td>\n",
       "      <td>126.278125</td>\n",
       "      <td>없음</td>\n",
       "      <td>금덕해운</td>\n",
       "      <td>33.420955</td>\n",
       "      <td>126.273750</td>\n",
       "      <td>없음</td>\n",
       "      <td>20.0</td>\n",
       "      <td>0.830357</td>\n",
       "    </tr>\n",
       "    <tr>\n",
       "      <th>4701213</th>\n",
       "      <td>TRAIN_4701213</td>\n",
       "      <td>20220331</td>\n",
       "      <td>목</td>\n",
       "      <td>2</td>\n",
       "      <td>2</td>\n",
       "      <td>107</td>\n",
       "      <td>-</td>\n",
       "      <td>0</td>\n",
       "      <td>0</td>\n",
       "      <td>80.0</td>\n",
       "      <td>...</td>\n",
       "      <td>광삼교</td>\n",
       "      <td>33.472505</td>\n",
       "      <td>126.424368</td>\n",
       "      <td>없음</td>\n",
       "      <td>광삼교</td>\n",
       "      <td>33.472525</td>\n",
       "      <td>126.424890</td>\n",
       "      <td>없음</td>\n",
       "      <td>65.0</td>\n",
       "      <td>0.428571</td>\n",
       "    </tr>\n",
       "    <tr>\n",
       "      <th>4701214</th>\n",
       "      <td>TRAIN_4701214</td>\n",
       "      <td>20220613</td>\n",
       "      <td>월</td>\n",
       "      <td>22</td>\n",
       "      <td>2</td>\n",
       "      <td>103</td>\n",
       "      <td>일반국도12호선</td>\n",
       "      <td>0</td>\n",
       "      <td>0</td>\n",
       "      <td>60.0</td>\n",
       "      <td>...</td>\n",
       "      <td>고성교차로</td>\n",
       "      <td>33.447183</td>\n",
       "      <td>126.912579</td>\n",
       "      <td>없음</td>\n",
       "      <td>성산교차로</td>\n",
       "      <td>33.444121</td>\n",
       "      <td>126.912948</td>\n",
       "      <td>없음</td>\n",
       "      <td>30.0</td>\n",
       "      <td>0.741071</td>\n",
       "    </tr>\n",
       "    <tr>\n",
       "      <th>4701215</th>\n",
       "      <td>TRAIN_4701215</td>\n",
       "      <td>20211020</td>\n",
       "      <td>수</td>\n",
       "      <td>2</td>\n",
       "      <td>2</td>\n",
       "      <td>103</td>\n",
       "      <td>일반국도95호선</td>\n",
       "      <td>0</td>\n",
       "      <td>0</td>\n",
       "      <td>80.0</td>\n",
       "      <td>...</td>\n",
       "      <td>제6광령교</td>\n",
       "      <td>33.443596</td>\n",
       "      <td>126.431817</td>\n",
       "      <td>없음</td>\n",
       "      <td>관광대학입구</td>\n",
       "      <td>33.444996</td>\n",
       "      <td>126.433332</td>\n",
       "      <td>없음</td>\n",
       "      <td>73.0</td>\n",
       "      <td>0.357143</td>\n",
       "    </tr>\n",
       "    <tr>\n",
       "      <th>4701216</th>\n",
       "      <td>TRAIN_4701216</td>\n",
       "      <td>20211019</td>\n",
       "      <td>화</td>\n",
       "      <td>6</td>\n",
       "      <td>2</td>\n",
       "      <td>107</td>\n",
       "      <td>경찰로</td>\n",
       "      <td>0</td>\n",
       "      <td>0</td>\n",
       "      <td>60.0</td>\n",
       "      <td>...</td>\n",
       "      <td>서귀포경찰서</td>\n",
       "      <td>33.256785</td>\n",
       "      <td>126.508940</td>\n",
       "      <td>없음</td>\n",
       "      <td>시민공원</td>\n",
       "      <td>33.257130</td>\n",
       "      <td>126.510364</td>\n",
       "      <td>없음</td>\n",
       "      <td>35.0</td>\n",
       "      <td>0.696429</td>\n",
       "    </tr>\n",
       "  </tbody>\n",
       "</table>\n",
       "<p>4701217 rows × 24 columns</p>\n",
       "</div>"
      ],
      "text/plain": [
       "                    id  base_date day_of_week  base_hour  lane_count  \\\n",
       "0        TRAIN_0000000   20220623           목         17           1   \n",
       "1        TRAIN_0000001   20220728           목         21           2   \n",
       "2        TRAIN_0000002   20211010           일          7           2   \n",
       "3        TRAIN_0000003   20220311           금         13           2   \n",
       "4        TRAIN_0000004   20211005           화          8           2   \n",
       "...                ...        ...         ...        ...         ...   \n",
       "4701212  TRAIN_4701212   20211104           목         16           1   \n",
       "4701213  TRAIN_4701213   20220331           목          2           2   \n",
       "4701214  TRAIN_4701214   20220613           월         22           2   \n",
       "4701215  TRAIN_4701215   20211020           수          2           2   \n",
       "4701216  TRAIN_4701216   20211019           화          6           2   \n",
       "\n",
       "         road_rating  road_name  multi_linked  connect_code  \\\n",
       "0                106  지방도1112호선             0             0   \n",
       "1                103   일반국도11호선             0             0   \n",
       "2                103   일반국도16호선             0             0   \n",
       "3                107        태평로             0             0   \n",
       "4                103   일반국도12호선             0             0   \n",
       "...              ...        ...           ...           ...   \n",
       "4701212          107          -             0             0   \n",
       "4701213          107          -             0             0   \n",
       "4701214          103   일반국도12호선             0             0   \n",
       "4701215          103   일반국도95호선             0             0   \n",
       "4701216          107        경찰로             0             0   \n",
       "\n",
       "         maximum_speed_limit  ...  start_node_name  start_latitude  \\\n",
       "0                       60.0  ...            제3교래교       33.427747   \n",
       "1                       60.0  ...            광양사거리       33.500730   \n",
       "2                       80.0  ...             창고천교       33.279145   \n",
       "3                       50.0  ...            남양리조트       33.246081   \n",
       "4                       80.0  ...             애월샷시       33.462214   \n",
       "...                      ...  ...              ...             ...   \n",
       "4701212                 50.0  ...            대림사거리       33.422145   \n",
       "4701213                 80.0  ...              광삼교       33.472505   \n",
       "4701214                 60.0  ...            고성교차로       33.447183   \n",
       "4701215                 80.0  ...            제6광령교       33.443596   \n",
       "4701216                 60.0  ...           서귀포경찰서       33.256785   \n",
       "\n",
       "         start_longitude  start_turn_restricted end_node_name  end_latitude  \\\n",
       "0             126.662612                     없음         제3교래교     33.427749   \n",
       "1             126.529107                     있음        KAL사거리     33.504811   \n",
       "2             126.368598                     없음          상창육교     33.280072   \n",
       "3             126.567204                     없음          서현주택     33.245565   \n",
       "4             126.326551                     없음          애월입구     33.462677   \n",
       "...                  ...                    ...           ...           ...   \n",
       "4701212       126.278125                     없음          금덕해운     33.420955   \n",
       "4701213       126.424368                     없음           광삼교     33.472525   \n",
       "4701214       126.912579                     없음         성산교차로     33.444121   \n",
       "4701215       126.431817                     없음        관광대학입구     33.444996   \n",
       "4701216       126.508940                     없음          시민공원     33.257130   \n",
       "\n",
       "         end_longitude end_turn_restricted target   traffic  \n",
       "0           126.662335                  없음   52.0  0.544643  \n",
       "1           126.526240                  없음   30.0  0.741071  \n",
       "2           126.362147                  없음   61.0  0.464286  \n",
       "3           126.566228                  없음   20.0  0.830357  \n",
       "4           126.330152                  없음   38.0  0.669643  \n",
       "...                ...                 ...    ...       ...  \n",
       "4701212     126.273750                  없음   20.0  0.830357  \n",
       "4701213     126.424890                  없음   65.0  0.428571  \n",
       "4701214     126.912948                  없음   30.0  0.741071  \n",
       "4701215     126.433332                  없음   73.0  0.357143  \n",
       "4701216     126.510364                  없음   35.0  0.696429  \n",
       "\n",
       "[4701217 rows x 24 columns]"
      ]
     },
     "execution_count": 17,
     "metadata": {},
     "output_type": "execute_result"
    }
   ],
   "source": [
    "# 도로의 차량 평균 속도를 통해 교통량을 간단하게 가정\n",
    "# 차량 평균 속도가 높으면 교통량이 적고, 차량 평균 속도가 낮으면 교통량이 많다고 가정\n",
    "# 차량 평균 속도에 따라 교통량을 0~1 사이의 값으로 정의\n",
    "data['traffic']=(np.max(data['target'])-data['target'])/(np.max(data['target'])-np.min(data['target']))\n",
    "data"
   ]
  },
  {
   "cell_type": "code",
   "execution_count": 18,
   "id": "712ebd2e-fc0a-46da-b2b3-478f1bc34e31",
   "metadata": {
    "execution": {
     "iopub.execute_input": "2024-11-13T09:53:07.403843Z",
     "iopub.status.busy": "2024-11-13T09:53:07.403843Z",
     "iopub.status.idle": "2024-11-13T09:53:26.911049Z",
     "shell.execute_reply": "2024-11-13T09:53:26.907262Z",
     "shell.execute_reply.started": "2024-11-13T09:53:07.403843Z"
    }
   },
   "outputs": [
    {
     "data": {
      "text/plain": [
       "<Axes: xlabel='base_hour', ylabel='traffic'>"
      ]
     },
     "execution_count": 18,
     "metadata": {},
     "output_type": "execute_result"
    },
    {
     "data": {
      "image/png": "[encoded data removed]",
      "text/plain": [
       "<Figure size 640x480 with 1 Axes>"
      ]
     },
     "metadata": {},
     "output_type": "display_data"
    }
   ],
   "source": [
    "# Q1\n",
    "# boxplot 출력\n",
    "import matplotlib.pyplot as plt\n",
    "import seaborn as sns\n",
    "\n",
    "sns.boxplot(x='base_hour', y='traffic', data=data)"
   ]
  },
  {
   "cell_type": "code",
   "execution_count": 19,
   "id": "c2198273-e220-4362-83f3-ca578754b909",
   "metadata": {
    "execution": {
     "iopub.execute_input": "2024-11-13T09:53:26.917972Z",
     "iopub.status.busy": "2024-11-13T09:53:26.916934Z",
     "iopub.status.idle": "2024-11-13T09:53:26.944001Z",
     "shell.execute_reply": "2024-11-13T09:53:26.940393Z",
     "shell.execute_reply.started": "2024-11-13T09:53:26.917972Z"
    }
   },
   "outputs": [],
   "source": [
    "# 시각적으로 확인했을때, 18시와 같은 오후 시간에는 교통량이 많은 것으로 보이고,\n",
    "# 3시와 같은 새벽 시간에는 교통량이 적은 것으로 확인됩니다.\n",
    "# 따라서 시간에 따라 교통량이 차이가 있다고 생각할 수 있습니다."
   ]
  },
  {
   "cell_type": "code",
   "execution_count": 24,
   "id": "b2a05daf-9f3b-46d6-aee0-2dec74c05862",
   "metadata": {
    "execution": {
     "iopub.execute_input": "2024-11-13T09:53:33.064723Z",
     "iopub.status.busy": "2024-11-13T09:53:33.064723Z",
     "iopub.status.idle": "2024-11-13T09:53:48.983803Z",
     "shell.execute_reply": "2024-11-13T09:53:48.981766Z",
     "shell.execute_reply.started": "2024-11-13T09:53:33.064723Z"
    }
   },
   "outputs": [
    {
     "data": {
      "text/plain": [
       "<Axes: xlabel='day_of_week', ylabel='traffic'>"
      ]
     },
     "execution_count": 24,
     "metadata": {},
     "output_type": "execute_result"
    },
    {
     "data": {
      "image/png": "[encoded data removed]",
      "text/plain": [
       "<Figure size 640x480 with 1 Axes>"
      ]
     },
     "metadata": {},
     "output_type": "display_data"
    }
   ],
   "source": [
    "# Q2\n",
    "# 한글인 요일 이름을 영어로 변경하고 boxplot을 출력\n",
    "day_mapping = {\n",
    "    '월': 'Mon',\n",
    "    '화': 'Tue',\n",
    "    '수': 'Wed',\n",
    "    '목': 'Thu',\n",
    "    '금': 'Fri',\n",
    "    '토': 'Sat',\n",
    "    '일': 'Sun'\n",
    "}\n",
    "\n",
    "data['day_of_week']=data['day_of_week'].replace(day_mapping)\n",
    "\n",
    "sns.boxplot(x='day_of_week', y='traffic', data=data, order=['Mon','Tue','Wed','Thu','Fri','Sat','Sun'])"
   ]
  },
  {
   "cell_type": "code",
   "execution_count": 30,
   "id": "f0a07647-bbb4-4b44-9825-676e35db1506",
   "metadata": {
    "execution": {
     "iopub.execute_input": "2024-11-13T10:00:55.491842Z",
     "iopub.status.busy": "2024-11-13T10:00:55.487831Z",
     "iopub.status.idle": "2024-11-13T10:00:55.509391Z",
     "shell.execute_reply": "2024-11-13T10:00:55.507985Z",
     "shell.execute_reply.started": "2024-11-13T10:00:55.491842Z"
    }
   },
   "outputs": [],
   "source": [
    "# boxplot을 확인했을 때, 거의 모든 요일에 대해서 비슷한 분포를 보이지만\n",
    "# 자세히 보면 평일과 주말의 교통량에 차이가 있는 것을 볼 수 있습니다.\n",
    "# 대체적으로 주말에 교통량이 더 적은 것으로 확인됩니다.\n",
    "# 따라서 요일별로 교통량의 차이가 있다고 생각할 수 있습니다."
   ]
  },
  {
   "cell_type": "code",
   "execution_count": 32,
   "id": "7ec37e36-cb26-4550-8b98-9668f555b863",
   "metadata": {
    "execution": {
     "iopub.execute_input": "2024-11-13T10:01:45.803456Z",
     "iopub.status.busy": "2024-11-13T10:01:45.803456Z",
     "iopub.status.idle": "2024-11-13T10:01:57.223840Z",
     "shell.execute_reply": "2024-11-13T10:01:57.223840Z",
     "shell.execute_reply.started": "2024-11-13T10:01:45.803456Z"
    }
   },
   "outputs": [
    {
     "data": {
      "text/html": [
       "<div>\n",
       "<style scoped>\n",
       "    .dataframe tbody tr th:only-of-type {\n",
       "        vertical-align: middle;\n",
       "    }\n",
       "\n",
       "    .dataframe tbody tr th {\n",
       "        vertical-align: top;\n",
       "    }\n",
       "\n",
       "    .dataframe thead th {\n",
       "        text-align: right;\n",
       "    }\n",
       "</style>\n",
       "<table border=\"1\" class=\"dataframe\">\n",
       "  <thead>\n",
       "    <tr style=\"text-align: right;\">\n",
       "      <th></th>\n",
       "      <th>year_month</th>\n",
       "      <th>traffic</th>\n",
       "    </tr>\n",
       "  </thead>\n",
       "  <tbody>\n",
       "    <tr>\n",
       "      <th>0</th>\n",
       "      <td>2022-06</td>\n",
       "      <td>0.544643</td>\n",
       "    </tr>\n",
       "    <tr>\n",
       "      <th>1</th>\n",
       "      <td>2022-07</td>\n",
       "      <td>0.741071</td>\n",
       "    </tr>\n",
       "    <tr>\n",
       "      <th>2</th>\n",
       "      <td>2021-10</td>\n",
       "      <td>0.464286</td>\n",
       "    </tr>\n",
       "    <tr>\n",
       "      <th>3</th>\n",
       "      <td>2022-03</td>\n",
       "      <td>0.830357</td>\n",
       "    </tr>\n",
       "    <tr>\n",
       "      <th>4</th>\n",
       "      <td>2021-10</td>\n",
       "      <td>0.669643</td>\n",
       "    </tr>\n",
       "    <tr>\n",
       "      <th>...</th>\n",
       "      <td>...</td>\n",
       "      <td>...</td>\n",
       "    </tr>\n",
       "    <tr>\n",
       "      <th>4701212</th>\n",
       "      <td>2021-11</td>\n",
       "      <td>0.830357</td>\n",
       "    </tr>\n",
       "    <tr>\n",
       "      <th>4701213</th>\n",
       "      <td>2022-03</td>\n",
       "      <td>0.428571</td>\n",
       "    </tr>\n",
       "    <tr>\n",
       "      <th>4701214</th>\n",
       "      <td>2022-06</td>\n",
       "      <td>0.741071</td>\n",
       "    </tr>\n",
       "    <tr>\n",
       "      <th>4701215</th>\n",
       "      <td>2021-10</td>\n",
       "      <td>0.357143</td>\n",
       "    </tr>\n",
       "    <tr>\n",
       "      <th>4701216</th>\n",
       "      <td>2021-10</td>\n",
       "      <td>0.696429</td>\n",
       "    </tr>\n",
       "  </tbody>\n",
       "</table>\n",
       "<p>4701217 rows × 2 columns</p>\n",
       "</div>"
      ],
      "text/plain": [
       "        year_month   traffic\n",
       "0          2022-06  0.544643\n",
       "1          2022-07  0.741071\n",
       "2          2021-10  0.464286\n",
       "3          2022-03  0.830357\n",
       "4          2021-10  0.669643\n",
       "...            ...       ...\n",
       "4701212    2021-11  0.830357\n",
       "4701213    2022-03  0.428571\n",
       "4701214    2022-06  0.741071\n",
       "4701215    2021-10  0.357143\n",
       "4701216    2021-10  0.696429\n",
       "\n",
       "[4701217 rows x 2 columns]"
      ]
     },
     "execution_count": 32,
     "metadata": {},
     "output_type": "execute_result"
    }
   ],
   "source": [
    "# Q3\n",
    "# 연월일이 있는 기존 데이터에서 연도+월만 남기도록 수정\n",
    "temp=data['base_date'].astype(str)\n",
    "data['year_month']=temp.str[:4] + '-' + temp.str[4:6]\n",
    "year_month_and_traffic=data[['year_month','traffic']]\n",
    "year_month_and_traffic"
   ]
  },
  {
   "cell_type": "code",
   "execution_count": 33,
   "id": "e290834f-d835-4476-9766-e32213fce4d3",
   "metadata": {
    "execution": {
     "iopub.execute_input": "2024-11-13T10:01:57.223840Z",
     "iopub.status.busy": "2024-11-13T10:01:57.223840Z",
     "iopub.status.idle": "2024-11-13T10:02:12.371567Z",
     "shell.execute_reply": "2024-11-13T10:02:12.369824Z",
     "shell.execute_reply.started": "2024-11-13T10:01:57.223840Z"
    }
   },
   "outputs": [
    {
     "data": {
      "text/plain": [
       "<Axes: xlabel='year_month', ylabel='traffic'>"
      ]
     },
     "execution_count": 33,
     "metadata": {},
     "output_type": "execute_result"
    },
    {
     "data": {
      "image/png": "[encoded data removed]",
      "text/plain": [
       "<Figure size 1000x500 with 1 Axes>"
      ]
     },
     "metadata": {},
     "output_type": "display_data"
    }
   ],
   "source": [
    "# boxplot 출력\n",
    "plt.figure(figsize=(10,5))\n",
    "sns.boxplot(x='year_month', y='traffic', data=data, order=['2021-09','2021-10','2021-11','2021-12',\n",
    "                                                           '2022-01','2022-02','2022-03','2022-04',\n",
    "                                                           '2022-05','2022-06','2022-07'])"
   ]
  },
  {
   "cell_type": "code",
   "execution_count": 40,
   "id": "b63c6496-5ed5-4d80-a72d-bf9aa8db1f0a",
   "metadata": {
    "execution": {
     "iopub.execute_input": "2024-11-13T10:22:54.868022Z",
     "iopub.status.busy": "2024-11-13T10:22:54.863514Z",
     "iopub.status.idle": "2024-11-13T10:22:54.877940Z",
     "shell.execute_reply": "2024-11-13T10:22:54.875888Z",
     "shell.execute_reply.started": "2024-11-13T10:22:54.863514Z"
    }
   },
   "outputs": [],
   "source": [
    "# boxplot을 확인했을 때, 2022년 4월의 데이터가 없는 것을 확인했습니다.\n",
    "# 또한 휴가 기간인 2022년 1월과 2022년 7월에 교통량이 비교적 많은 것으로 보이며\n",
    "# 특히 2022년 7월에 교통량이 많았습니다.\n",
    "# 2022년 외의 1월이나 7월 데이터를 알지 못하므로 경향성을 확실히 말할 수는 없지만\n",
    "# 가지고 있는 데이터에서는 시간의 흐름에 따라 교통량 차이가 있다고 볼 수 있습니다."
   ]
  },
  {
   "cell_type": "code",
   "execution_count": 42,
   "id": "b5ade89d-8c90-459b-b9e7-e422a3d2999c",
   "metadata": {
    "execution": {
     "iopub.execute_input": "2024-11-13T10:23:00.770264Z",
     "iopub.status.busy": "2024-11-13T10:23:00.770264Z",
     "iopub.status.idle": "2024-11-13T10:23:18.025510Z",
     "shell.execute_reply": "2024-11-13T10:23:18.022706Z",
     "shell.execute_reply.started": "2024-11-13T10:23:00.770264Z"
    }
   },
   "outputs": [
    {
     "data": {
      "text/plain": [
       "<Axes: xlabel='lane_count', ylabel='traffic'>"
      ]
     },
     "execution_count": 42,
     "metadata": {},
     "output_type": "execute_result"
    },
    {
     "data": {
      "image/png": "[encoded data removed]",
      "text/plain": [
       "<Figure size 640x480 with 1 Axes>"
      ]
     },
     "metadata": {},
     "output_type": "display_data"
    }
   ],
   "source": [
    "# Q4\n",
    "# boxplot 출력\n",
    "sns.boxplot(x='lane_count', y='traffic', data=data)"
   ]
  },
  {
   "cell_type": "code",
   "execution_count": 76,
   "id": "d83bd69d-c847-4374-8f57-810b79e985ad",
   "metadata": {
    "execution": {
     "iopub.execute_input": "2024-11-13T10:32:19.587917Z",
     "iopub.status.busy": "2024-11-13T10:32:19.587917Z",
     "iopub.status.idle": "2024-11-13T10:32:19.610973Z",
     "shell.execute_reply": "2024-11-13T10:32:19.609064Z",
     "shell.execute_reply.started": "2024-11-13T10:32:19.587917Z"
    }
   },
   "outputs": [],
   "source": [
    "# boxplot을 확인했을 때, 3차선에서 가장 교통량이 많아지는 것을 확인할 수 있습니다.\n",
    "# 교통량이 많을 것으로 예상이 되는 구간이기에 설계 단계에서 여러 차선을 계획했을 수도 있습니다.\n",
    "# 결과적으로 lane_count의 차이가 교통량 차이와 관련이 있을 것이라고 볼 수 있습니다."
   ]
  },
  {
   "cell_type": "code",
   "execution_count": 46,
   "id": "4dc384c7-7043-44a3-93f7-0330c6e89eb7",
   "metadata": {
    "execution": {
     "iopub.execute_input": "2024-11-13T10:25:26.745681Z",
     "iopub.status.busy": "2024-11-13T10:25:26.745681Z",
     "iopub.status.idle": "2024-11-13T10:25:45.009207Z",
     "shell.execute_reply": "2024-11-13T10:25:45.006641Z",
     "shell.execute_reply.started": "2024-11-13T10:25:26.745681Z"
    }
   },
   "outputs": [
    {
     "data": {
      "text/plain": [
       "<Axes: xlabel='maximum_speed_limit', ylabel='traffic'>"
      ]
     },
     "execution_count": 46,
     "metadata": {},
     "output_type": "execute_result"
    },
    {
     "data": {
      "image/png": "[encoded data removed]",
      "text/plain": [
       "<Figure size 640x480 with 1 Axes>"
      ]
     },
     "metadata": {},
     "output_type": "display_data"
    }
   ],
   "source": [
    "# Q5\n",
    "# boxplot을 출력\n",
    "sns.boxplot(x='maximum_speed_limit', y='traffic', data=data)"
   ]
  },
  {
   "cell_type": "code",
   "execution_count": 47,
   "id": "e0ff140e-6086-45e6-bab3-3efb02f9d7bb",
   "metadata": {
    "execution": {
     "iopub.execute_input": "2024-11-13T10:25:45.014798Z",
     "iopub.status.busy": "2024-11-13T10:25:45.013283Z",
     "iopub.status.idle": "2024-11-13T10:25:45.033328Z",
     "shell.execute_reply": "2024-11-13T10:25:45.031054Z",
     "shell.execute_reply.started": "2024-11-13T10:25:45.014798Z"
    }
   },
   "outputs": [],
   "source": [
    "# 제한 속도가 40인 구간에서 교통량이 급격하게 낮아지는 이상 현상을 확인했습니다.\n",
    "# 가정에 의해 교통량이 낮다는 것은 차량의 평균 속도가 빨랐다는 것을 의미합니다.\n",
    "# 따라서 제한 속도가 40인 구간에서 속도가 빠른 차량이 많았다고 볼 수 있습니다."
   ]
  },
  {
   "cell_type": "code",
   "execution_count": 48,
   "id": "72e31e0b-0dda-4c20-ae30-207c04dec477",
   "metadata": {
    "execution": {
     "iopub.execute_input": "2024-11-13T10:25:45.036045Z",
     "iopub.status.busy": "2024-11-13T10:25:45.033328Z",
     "iopub.status.idle": "2024-11-13T10:26:04.517691Z",
     "shell.execute_reply": "2024-11-13T10:26:04.516426Z",
     "shell.execute_reply.started": "2024-11-13T10:25:45.036045Z"
    }
   },
   "outputs": [
    {
     "data": {
      "text/plain": [
       "<Axes: xlabel='maximum_speed_limit', ylabel='target'>"
      ]
     },
     "execution_count": 48,
     "metadata": {},
     "output_type": "execute_result"
    },
    {
     "data": {
      "image/png": "[encoded data removed]",
      "text/plain": [
       "<Figure size 640x480 with 1 Axes>"
      ]
     },
     "metadata": {},
     "output_type": "display_data"
    }
   ],
   "source": [
    "# 실제로 제한 속도 40인 구간에서 차량의 평균 속도가 40이 넘어가는 관측이 많았습니다.\n",
    "sns.boxplot(x='maximum_speed_limit', y='target', data=data)"
   ]
  },
  {
   "cell_type": "code",
   "execution_count": 49,
   "id": "f1f47ab0-a44f-474d-88fa-6e5ae2f4d32e",
   "metadata": {
    "execution": {
     "iopub.execute_input": "2024-11-13T10:26:04.517691Z",
     "iopub.status.busy": "2024-11-13T10:26:04.517691Z",
     "iopub.status.idle": "2024-11-13T10:26:23.628145Z",
     "shell.execute_reply": "2024-11-13T10:26:23.628145Z",
     "shell.execute_reply.started": "2024-11-13T10:26:04.517691Z"
    }
   },
   "outputs": [
    {
     "name": "stdout",
     "output_type": "stream",
     "text": [
      "maximum_speed_limit\n",
      "60.0    1665573\n",
      "50.0    1103682\n",
      "70.0     995077\n",
      "80.0     700334\n",
      "30.0     229761\n",
      "40.0       6790\n",
      "Name: count, dtype: int64\n"
     ]
    },
    {
     "data": {
      "text/plain": [
       "<Axes: xlabel='maximum_speed_limit', ylabel='count'>"
      ]
     },
     "execution_count": 49,
     "metadata": {},
     "output_type": "execute_result"
    },
    {
     "data": {
      "image/png": "[encoded data removed]",
      "text/plain": [
       "<Figure size 640x480 with 1 Axes>"
      ]
     },
     "metadata": {},
     "output_type": "display_data"
    }
   ],
   "source": [
    "# 각 maximum_speed_limit별로 샘플의 개수를 확인\n",
    "print(data['maximum_speed_limit'].value_counts())\n",
    "sns.countplot(data=data, x='maximum_speed_limit')"
   ]
  },
  {
   "cell_type": "code",
   "execution_count": 50,
   "id": "d18edc75-b094-42c4-af40-45685a44bd6a",
   "metadata": {
    "execution": {
     "iopub.execute_input": "2024-11-13T10:26:23.636086Z",
     "iopub.status.busy": "2024-11-13T10:26:23.636086Z",
     "iopub.status.idle": "2024-11-13T10:26:23.662611Z",
     "shell.execute_reply": "2024-11-13T10:26:23.659575Z",
     "shell.execute_reply.started": "2024-11-13T10:26:23.636086Z"
    }
   },
   "outputs": [],
   "source": [
    "# maximum_speed_limit이 40인 구간은 애초에 별로 존재하지 않아, 데이터의 양이 상대적으로 적은 편입니다.\n",
    "# 적은 샘플은 통계적으로 신뢰하기 어려운 결과를 도출할 수 있기 때문에, 이런 현상이 관측될 수 있었을 것입니다."
   ]
  },
  {
   "cell_type": "code",
   "execution_count": 51,
   "id": "9775d4fe-f887-40a0-a542-80b6f78d6054",
   "metadata": {
    "execution": {
     "iopub.execute_input": "2024-11-13T10:26:23.668892Z",
     "iopub.status.busy": "2024-11-13T10:26:23.667371Z",
     "iopub.status.idle": "2024-11-13T10:26:26.161400Z",
     "shell.execute_reply": "2024-11-13T10:26:26.158658Z",
     "shell.execute_reply.started": "2024-11-13T10:26:23.668892Z"
    }
   },
   "outputs": [
    {
     "name": "stdout",
     "output_type": "stream",
     "text": [
      "제한속도가 40인 도로\n",
      "['일반국도12호선' '일반국도95호선']\n"
     ]
    }
   ],
   "source": [
    "# 제한속도가 40인 도로를 확인\n",
    "print('제한속도가 40인 도로')\n",
    "print(data[data['maximum_speed_limit']==40]['road_name'].unique())"
   ]
  },
  {
   "cell_type": "code",
   "execution_count": 52,
   "id": "aba76c89-6e4e-43f6-aae5-e61dd0ab7f43",
   "metadata": {
    "execution": {
     "iopub.execute_input": "2024-11-13T10:26:26.163294Z",
     "iopub.status.busy": "2024-11-13T10:26:26.163294Z",
     "iopub.status.idle": "2024-11-13T10:26:31.112889Z",
     "shell.execute_reply": "2024-11-13T10:26:31.112889Z",
     "shell.execute_reply.started": "2024-11-13T10:26:26.163294Z"
    }
   },
   "outputs": [
    {
     "name": "stdout",
     "output_type": "stream",
     "text": [
      "일반국도95호선의 제한속도들\n",
      "[80. 40.]\n"
     ]
    }
   ],
   "source": [
    "# 일반국도95호선의 제한속도들을 확인\n",
    "print('일반국도95호선의 제한속도들')\n",
    "print(data[data['road_name']=='일반국도95호선']['maximum_speed_limit'].unique())"
   ]
  },
  {
   "cell_type": "code",
   "execution_count": 53,
   "id": "0a3d8b06-1113-4879-96c5-85a90e41cc62",
   "metadata": {
    "execution": {
     "iopub.execute_input": "2024-11-13T10:26:31.119039Z",
     "iopub.status.busy": "2024-11-13T10:26:31.119039Z",
     "iopub.status.idle": "2024-11-13T10:26:31.140927Z",
     "shell.execute_reply": "2024-11-13T10:26:31.137845Z",
     "shell.execute_reply.started": "2024-11-13T10:26:31.119039Z"
    }
   },
   "outputs": [],
   "source": [
    "# 일반국도95호선은 기본적으로 제한속도가 80인 도로에서 일부 짧은 구간에 대해서 제한속도가 40으로 바뀌는 것으로 보입니다.\n",
    "# 운전자가 이를 제대로 파악하지 못했다면 계속 제한속도 80을 생각하며 운전을 할 가능성이 있습니다.\n",
    "# 따라서 maximum_speed_limit이 40인 구간에서 과속을 하여 교통량이 낮게 보일 수 있을 것이라고 생각합니다."
   ]
  },
  {
   "cell_type": "code",
   "execution_count": 54,
   "id": "249a7d9c-37b3-4c21-80d8-252cd249c88f",
   "metadata": {
    "execution": {
     "iopub.execute_input": "2024-11-13T10:26:31.146341Z",
     "iopub.status.busy": "2024-11-13T10:26:31.146341Z",
     "iopub.status.idle": "2024-11-13T10:26:31.178927Z",
     "shell.execute_reply": "2024-11-13T10:26:31.170193Z",
     "shell.execute_reply.started": "2024-11-13T10:26:31.146341Z"
    }
   },
   "outputs": [],
   "source": [
    "# Q6\n",
    "# box plot으로 분포 확인이 불가능한 변수가 있습니다.\n",
    "\n",
    "# id와 같은 경우, 모든 sample에 대한 고유한 값이며 그 순서가 교통량과 관계가 있는 값이 아니므로\n",
    "# box plot으로 그렸을 때 교통량 분포 확인이 불가능합니다.\n",
    "\n",
    "# vehicle_restricted와 height_restricted도 교통량 분포 확인이 불가능한 변수입니다.\n",
    "# 이유로는 두 변수 모두 모든 샘플에서 0이라는 값만 가지고 있기 때문입니다."
   ]
  },
  {
   "cell_type": "code",
   "execution_count": 82,
   "id": "2107707f-6dac-4b46-865a-0793c4ae8da4",
   "metadata": {
    "execution": {
     "iopub.execute_input": "2024-11-13T10:50:45.425185Z",
     "iopub.status.busy": "2024-11-13T10:50:45.425185Z",
     "iopub.status.idle": "2024-11-13T10:50:45.442429Z",
     "shell.execute_reply": "2024-11-13T10:50:45.439263Z",
     "shell.execute_reply.started": "2024-11-13T10:50:45.425185Z"
    }
   },
   "outputs": [],
   "source": [
    "# Q7\n",
    "# Q1, Q2, Q3, Q4에서 다룬 변수 중에서 box plot을 그려보았을 때, 시각적으로 가장 교통량이 다르게 확인된\n",
    "# base_hour와 lane_count가 교통량과 가장 상관이 클 것이라고 생각해 선택했습니다."
   ]
  },
  {
   "cell_type": "code",
   "execution_count": 84,
   "id": "cd815ccb-8a4c-4142-b05e-117fdb7ad2ae",
   "metadata": {
    "execution": {
     "iopub.execute_input": "2024-11-13T10:50:54.958263Z",
     "iopub.status.busy": "2024-11-13T10:50:54.954561Z",
     "iopub.status.idle": "2024-11-13T10:50:55.070766Z",
     "shell.execute_reply": "2024-11-13T10:50:55.067565Z",
     "shell.execute_reply.started": "2024-11-13T10:50:54.958263Z"
    }
   },
   "outputs": [
    {
     "data": {
      "text/html": [
       "<div>\n",
       "<style scoped>\n",
       "    .dataframe tbody tr th:only-of-type {\n",
       "        vertical-align: middle;\n",
       "    }\n",
       "\n",
       "    .dataframe tbody tr th {\n",
       "        vertical-align: top;\n",
       "    }\n",
       "\n",
       "    .dataframe thead th {\n",
       "        text-align: right;\n",
       "    }\n",
       "</style>\n",
       "<table border=\"1\" class=\"dataframe\">\n",
       "  <thead>\n",
       "    <tr style=\"text-align: right;\">\n",
       "      <th></th>\n",
       "      <th>base_hour</th>\n",
       "      <th>lane_count</th>\n",
       "      <th>traffic</th>\n",
       "    </tr>\n",
       "  </thead>\n",
       "  <tbody>\n",
       "    <tr>\n",
       "      <th>0</th>\n",
       "      <td>17</td>\n",
       "      <td>1</td>\n",
       "      <td>0.544643</td>\n",
       "    </tr>\n",
       "    <tr>\n",
       "      <th>1</th>\n",
       "      <td>21</td>\n",
       "      <td>2</td>\n",
       "      <td>0.741071</td>\n",
       "    </tr>\n",
       "    <tr>\n",
       "      <th>2</th>\n",
       "      <td>7</td>\n",
       "      <td>2</td>\n",
       "      <td>0.464286</td>\n",
       "    </tr>\n",
       "    <tr>\n",
       "      <th>3</th>\n",
       "      <td>13</td>\n",
       "      <td>2</td>\n",
       "      <td>0.830357</td>\n",
       "    </tr>\n",
       "    <tr>\n",
       "      <th>4</th>\n",
       "      <td>8</td>\n",
       "      <td>2</td>\n",
       "      <td>0.669643</td>\n",
       "    </tr>\n",
       "  </tbody>\n",
       "</table>\n",
       "</div>"
      ],
      "text/plain": [
       "   base_hour  lane_count   traffic\n",
       "0         17           1  0.544643\n",
       "1         21           2  0.741071\n",
       "2          7           2  0.464286\n",
       "3         13           2  0.830357\n",
       "4          8           2  0.669643"
      ]
     },
     "execution_count": 84,
     "metadata": {},
     "output_type": "execute_result"
    }
   ],
   "source": [
    "top2_variable=data[['base_hour','lane_count','traffic']]\n",
    "top2_variable.head()"
   ]
  },
  {
   "cell_type": "code",
   "execution_count": 72,
   "id": "288b8bf5-b1ca-465d-86da-6de923d1eb05",
   "metadata": {
    "execution": {
     "iopub.execute_input": "2024-11-13T10:31:38.989525Z",
     "iopub.status.busy": "2024-11-13T10:31:38.989525Z",
     "iopub.status.idle": "2024-11-13T10:31:39.591013Z",
     "shell.execute_reply": "2024-11-13T10:31:39.588374Z",
     "shell.execute_reply.started": "2024-11-13T10:31:38.989525Z"
    }
   },
   "outputs": [
    {
     "data": {
      "text/html": [
       "<div>\n",
       "<style scoped>\n",
       "    .dataframe tbody tr th:only-of-type {\n",
       "        vertical-align: middle;\n",
       "    }\n",
       "\n",
       "    .dataframe tbody tr th {\n",
       "        vertical-align: top;\n",
       "    }\n",
       "\n",
       "    .dataframe thead th {\n",
       "        text-align: right;\n",
       "    }\n",
       "</style>\n",
       "<table border=\"1\" class=\"dataframe\">\n",
       "  <thead>\n",
       "    <tr style=\"text-align: right;\">\n",
       "      <th>lane_count</th>\n",
       "      <th>1</th>\n",
       "      <th>2</th>\n",
       "      <th>3</th>\n",
       "    </tr>\n",
       "    <tr>\n",
       "      <th>base_hour</th>\n",
       "      <th></th>\n",
       "      <th></th>\n",
       "      <th></th>\n",
       "    </tr>\n",
       "  </thead>\n",
       "  <tbody>\n",
       "    <tr>\n",
       "      <th>0</th>\n",
       "      <td>0.578907</td>\n",
       "      <td>0.552647</td>\n",
       "      <td>0.626782</td>\n",
       "    </tr>\n",
       "    <tr>\n",
       "      <th>1</th>\n",
       "      <td>0.570936</td>\n",
       "      <td>0.542376</td>\n",
       "      <td>0.618247</td>\n",
       "    </tr>\n",
       "    <tr>\n",
       "      <th>2</th>\n",
       "      <td>0.569082</td>\n",
       "      <td>0.535620</td>\n",
       "      <td>0.614356</td>\n",
       "    </tr>\n",
       "    <tr>\n",
       "      <th>3</th>\n",
       "      <td>0.565033</td>\n",
       "      <td>0.533789</td>\n",
       "      <td>0.611660</td>\n",
       "    </tr>\n",
       "    <tr>\n",
       "      <th>4</th>\n",
       "      <td>0.571396</td>\n",
       "      <td>0.543486</td>\n",
       "      <td>0.613917</td>\n",
       "    </tr>\n",
       "  </tbody>\n",
       "</table>\n",
       "</div>"
      ],
      "text/plain": [
       "lane_count         1         2         3\n",
       "base_hour                               \n",
       "0           0.578907  0.552647  0.626782\n",
       "1           0.570936  0.542376  0.618247\n",
       "2           0.569082  0.535620  0.614356\n",
       "3           0.565033  0.533789  0.611660\n",
       "4           0.571396  0.543486  0.613917"
      ]
     },
     "execution_count": 72,
     "metadata": {},
     "output_type": "execute_result"
    }
   ],
   "source": [
    "# 데이터를 heatmap에 사용할 수 있도록 pivot_table을 사용\n",
    "pivot=top2_variable.pivot_table(index='base_hour', \n",
    "                          columns='lane_count',\n",
    "                          values='traffic',\n",
    "                          aggfunc='mean')\n",
    "pivot.head()"
   ]
  },
  {
   "cell_type": "code",
   "execution_count": 74,
   "id": "f1c0062a-5148-492f-beef-60049fd1039a",
   "metadata": {
    "execution": {
     "iopub.execute_input": "2024-11-13T10:31:41.205101Z",
     "iopub.status.busy": "2024-11-13T10:31:41.205101Z",
     "iopub.status.idle": "2024-11-13T10:31:42.049877Z",
     "shell.execute_reply": "2024-11-13T10:31:42.046863Z",
     "shell.execute_reply.started": "2024-11-13T10:31:41.205101Z"
    }
   },
   "outputs": [
    {
     "data": {
      "text/plain": [
       "<Axes: xlabel='lane_count', ylabel='base_hour'>"
      ]
     },
     "execution_count": 74,
     "metadata": {},
     "output_type": "execute_result"
    },
    {
     "data": {
      "image/png": "[encoded data removed]",
      "text/plain": [
       "<Figure size 640x480 with 2 Axes>"
      ]
     },
     "metadata": {},
     "output_type": "display_data"
    }
   ],
   "source": [
    "# 두 변수에 따른 교통량 heatmap 출력\n",
    "sns.heatmap(pivot, cmap='Reds', cbar=True)"
   ]
  },
  {
   "cell_type": "code",
   "execution_count": 80,
   "id": "c5a42b1b-7ccb-430f-82bd-6474f6ef7620",
   "metadata": {
    "execution": {
     "iopub.execute_input": "2024-11-13T10:43:25.690321Z",
     "iopub.status.busy": "2024-11-13T10:43:25.689008Z",
     "iopub.status.idle": "2024-11-13T10:43:25.704021Z",
     "shell.execute_reply": "2024-11-13T10:43:25.704021Z",
     "shell.execute_reply.started": "2024-11-13T10:43:25.690321Z"
    }
   },
   "outputs": [],
   "source": [
    "# 어떤 특성이 있는지\n",
    "# 어두울수록 교통량이 많다고 보이는 그래프입니다.\n",
    "\n",
    "# lane_count가 2인 경우 교통량이 가장 없는 것으로 확인됩니다.\n",
    "# 이는 1차선에 비해 2차선이 차량을 2배 더 수용할 수 있기 때문에 발생한 현상으로 보입니다.\n",
    "# 하지만 3차선에서는 차량의 양이 매우 많아 오히려 교통량이 많아진 것으로 보입니다.\n",
    "# 애초에 교통량이 밀집될 구간을 3차선으로 설계했을 수 있습니다.\n",
    "\n",
    "# base_hour 관점에서 보았을 때, 17~18시 사이에 교통량이 매우 많은 것으로 확인되는데,\n",
    "# 이 시간대에는 2차선도 1차선 이상의 교통량을 가지는 것으로 보입니다."
   ]
  }
 ],
 "metadata": {
  "kernelspec": {
   "display_name": "sda2024",
   "language": "python",
   "name": "sda2024"
  },
  "language_info": {
   "codemirror_mode": {
    "name": "ipython",
    "version": 3
   },
   "file_extension": ".py",
   "mimetype": "text/x-python",
   "name": "python",
   "nbconvert_exporter": "python",
   "pygments_lexer": "ipython3",
   "version": "3.8.18"
  }
 },
 "nbformat": 4,
 "nbformat_minor": 5
}
